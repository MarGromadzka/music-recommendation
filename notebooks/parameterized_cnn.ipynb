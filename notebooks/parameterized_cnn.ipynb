{
  "nbformat": 4,
  "nbformat_minor": 0,
  "metadata": {
    "colab": {
      "provenance": [],
      "machine_shape": "hm",
      "gpuType": "T4"
    },
    "kernelspec": {
      "name": "python3",
      "display_name": "Python 3"
    },
    "language_info": {
      "name": "python"
    },
    "accelerator": "GPU"
  },
  "cells": [
    {
      "cell_type": "code",
      "execution_count": 1,
      "metadata": {
        "colab": {
          "base_uri": "https://localhost:8080/"
        },
        "id": "Q_4Ubek005nu",
        "outputId": "961f11b1-2a87-45e5-a04d-2745492199bd"
      },
      "outputs": [
        {
          "output_type": "stream",
          "name": "stdout",
          "text": [
            "Mounted at /content/drive\n"
          ]
        }
      ],
      "source": [
        "from google.colab import drive\n",
        "drive.mount('/content/drive')"
      ]
    },
    {
      "cell_type": "code",
      "source": [
        "import tarfile\n",
        "tar_file_path = '/content/drive/MyDrive/musicrecom/sorted_spec.tar'\n",
        "extract_to = '/content/sorted_spec'\n",
        "with tarfile.open(tar_file_path, 'r') as tar:\n",
        "  tar.extractall(extract_to)"
      ],
      "metadata": {
        "id": "uOGki4XU06Zh"
      },
      "execution_count": 2,
      "outputs": []
    },
    {
      "cell_type": "markdown",
      "source": [
        "Szukanie odpowiedniej architektury"
      ],
      "metadata": {
        "id": "CTIsf-6l18Fs"
      }
    },
    {
      "cell_type": "code",
      "source": [
        "from ParameterizedArchitecureCNN import ParameterizedArchitectureCNN\n",
        "import params\n",
        "from CustomImageDataset import CustomImageDataset\n",
        "from utils import train_model, test_model, save_metrics\n",
        "\n"
      ],
      "metadata": {
        "id": "d9QdQ-sh1KLS"
      },
      "execution_count": 3,
      "outputs": []
    },
    {
      "cell_type": "code",
      "source": [
        "import importlib\n",
        "importlib.reload(params)\n",
        "\n",
        "import sys\n",
        "sys.modules.pop('ParameterizedArchitecureCNN')\n",
        "from ParameterizedArchitecureCNN import ParameterizedArchitectureCNN\n",
        "\n"
      ],
      "metadata": {
        "id": "HDIzsWEzioPQ"
      },
      "execution_count": 4,
      "outputs": []
    },
    {
      "cell_type": "code",
      "source": [
        "import torch.optim as optim\n",
        "import torch.nn as nn\n",
        "import torch\n",
        "\n",
        "\n",
        "criterion = nn.BCEWithLogitsLoss()\n",
        "torch.cuda.set_device(0)\n",
        "device = torch.device(\"cuda\")\n"
      ],
      "metadata": {
        "id": "sT6eyMDXTArv"
      },
      "execution_count": 4,
      "outputs": []
    },
    {
      "cell_type": "code",
      "source": [
        "import gc\n",
        "\n",
        "for p in params.architecture_params:\n",
        "  net = ParameterizedArchitectureCNN(p[\"kernel_sizes\"], p[\"stride\"], p[\"padding\"], p[\"pool_size\"], p[\"fc_sizes\"], p[\"activation_func\"], p[\"conv_dropout\"], p[\"fc_dropout\"]).to(device)\n",
        "  optimizer = optim.Adam(net.parameters(), lr=p[\"learning_rate\"])\n",
        "  trained_model = train_model(net, device, optimizer, criterion, params.tags_list, p[\"epochs\"])\n",
        "  tp, tn, fp, fn, pred = test_model(trained_model, device, params.tags_list)\n",
        "  save_metrics(p, tp, tn, fp, fn, \"/content/drive/MyDrive/musicrecom/training_metrics/\")\n",
        "  net.cpu()\n",
        "  del net\n",
        "  gc.collect()\n",
        "  torch.cuda.empty_cache()\n"
      ],
      "metadata": {
        "id": "lvlcK25H1KJC"
      },
      "execution_count": 5,
      "outputs": []
    },
    {
      "cell_type": "code",
      "source": [
        "net"
      ],
      "metadata": {
        "colab": {
          "base_uri": "https://localhost:8080/"
        },
        "id": "zhsR4Lqj6FaQ",
        "outputId": "8a03dc2d-ca5c-4160-fde9-8f392a6819fb"
      },
      "execution_count": 18,
      "outputs": [
        {
          "output_type": "execute_result",
          "data": {
            "text/plain": [
              "ParameterizedArchitectureCNN(\n",
              "  (conv_layers): ModuleList(\n",
              "    (0): Conv2d(4, 8, kernel_size=(10, 3), stride=(1, 1), padding=(1, 1))\n",
              "    (1): Conv2d(8, 16, kernel_size=(3, 10), stride=(1, 1), padding=(1, 1))\n",
              "    (2): Conv2d(16, 32, kernel_size=(5, 5), stride=(1, 1), padding=(1, 1))\n",
              "  )\n",
              "  (pool_layers): ModuleList(\n",
              "    (0-2): 3 x MaxPool2d(kernel_size=2, stride=2, padding=0, dilation=1, ceil_mode=False)\n",
              "  )\n",
              "  (fc_layers): ModuleList(\n",
              "    (0): Linear(in_features=142912, out_features=1000, bias=True)\n",
              "    (1): Linear(in_features=1000, out_features=64, bias=True)\n",
              "    (2): Linear(in_features=64, out_features=21, bias=True)\n",
              "  )\n",
              "  (activation_func): ReLU()\n",
              "  (conv_dropout): Dropout2d(p=0.3, inplace=False)\n",
              "  (fc_dropout): Dropout(p=0.0, inplace=False)\n",
              ")"
            ]
          },
          "metadata": {},
          "execution_count": 18
        }
      ]
    },
    {
      "cell_type": "code",
      "source": [
        "del net\n",
        "gc.collect()\n",
        "torch.cuda.empty_cache()"
      ],
      "metadata": {
        "id": "kO9T7p5S1KG3"
      },
      "execution_count": 11,
      "outputs": []
    },
    {
      "cell_type": "code",
      "source": [
        "import gc\n",
        "\n",
        "net.cpu()\n",
        "del net\n",
        "gc.collect()\n",
        "torch.cuda.empty_cache()"
      ],
      "metadata": {
        "id": "cJcXfVTh1KEh"
      },
      "execution_count": 15,
      "outputs": []
    },
    {
      "cell_type": "markdown",
      "source": [],
      "metadata": {
        "id": "BxmG74b-xy7j"
      }
    },
    {
      "cell_type": "code",
      "source": [
        "save_metrics(p, 1, 2, 3, 4, \"./\")"
      ],
      "metadata": {
        "id": "KR0GRMDg1KAG"
      },
      "execution_count": null,
      "outputs": []
    },
    {
      "cell_type": "code",
      "source": [],
      "metadata": {
        "id": "gLiW-eZh1J-A"
      },
      "execution_count": null,
      "outputs": []
    },
    {
      "cell_type": "code",
      "source": [],
      "metadata": {
        "id": "MKy5LvPt1J7q"
      },
      "execution_count": null,
      "outputs": []
    },
    {
      "cell_type": "code",
      "source": [],
      "metadata": {
        "id": "6_Ug1WiA1J2_"
      },
      "execution_count": null,
      "outputs": []
    },
    {
      "cell_type": "code",
      "source": [],
      "metadata": {
        "id": "dvDjtswZ1Jz2"
      },
      "execution_count": null,
      "outputs": []
    },
    {
      "cell_type": "code",
      "source": [],
      "metadata": {
        "id": "g9rhobWZ1Jt3"
      },
      "execution_count": null,
      "outputs": []
    }
  ]
}