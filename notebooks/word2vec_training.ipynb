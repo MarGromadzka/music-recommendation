{
  "nbformat": 4,
  "nbformat_minor": 0,
  "metadata": {
    "colab": {
      "provenance": [],
      "machine_shape": "hm",
      "gpuType": "T4"
    },
    "kernelspec": {
      "name": "python3",
      "display_name": "Python 3"
    },
    "language_info": {
      "name": "python"
    },
    "accelerator": "GPU"
  },
  "cells": [
    {
      "cell_type": "code",
      "execution_count": 1,
      "metadata": {
        "colab": {
          "base_uri": "https://localhost:8080/"
        },
        "id": "nVrnczlThob3",
        "outputId": "6407fce5-f01f-45cc-ff98-359a6ae0cea7"
      },
      "outputs": [
        {
          "output_type": "stream",
          "name": "stdout",
          "text": [
            "Mounted at /content/drive\n"
          ]
        }
      ],
      "source": [
        "from google.colab import drive\n",
        "drive.mount('/content/drive')"
      ]
    },
    {
      "cell_type": "code",
      "source": [
        "import pandas as pd"
      ],
      "metadata": {
        "id": "_RuKAXUFrP_Q"
      },
      "execution_count": 1,
      "outputs": []
    },
    {
      "cell_type": "code",
      "source": [
        "all_events = pd.read_csv('/content/drive/MyDrive/musicrecom/melodice/melodice_all_events.csv')"
      ],
      "metadata": {
        "id": "_VgcENIQrCrW"
      },
      "execution_count": 2,
      "outputs": []
    },
    {
      "cell_type": "code",
      "source": [
        "all_events"
      ],
      "metadata": {
        "colab": {
          "base_uri": "https://localhost:8080/",
          "height": 424
        },
        "id": "3mJQLDWTvfsM",
        "outputId": "60239b78-1ce9-40ca-e105-91faca6eec52"
      },
      "execution_count": 3,
      "outputs": [
        {
          "output_type": "execute_result",
          "data": {
            "text/plain": [
              "          game_id  link_id  idx         cookieid                  event_date  \\\n",
              "0             242     3260   -1              0-0  2016-05-19 18:12:44.153372   \n",
              "1             242     3261   -1              0-0  2016-05-19 18:18:04.419495   \n",
              "2             242     3262   -1              0-0  2016-05-19 18:19:00.665417   \n",
              "3             242     3263   -1              0-0  2016-05-19 18:19:48.678645   \n",
              "4             242     3264   -1              0-0  2016-05-19 18:21:56.611650   \n",
              "...           ...      ...  ...              ...                         ...   \n",
              "73245961      135     3042   32  1618059452-5089  2022-11-07 09:43:24.726066   \n",
              "73245962      135    16308   34  1618059452-5089  2022-11-07 09:43:29.700739   \n",
              "73245963      135    44543   40  1618059452-5089  2022-11-07 09:57:15.209875   \n",
              "73245964      135     3036   47  1618059452-5089  2022-11-07 10:17:12.852845   \n",
              "73245965      819    30597   28  1667864228-4613  2022-11-08 00:37:08.948462   \n",
              "\n",
              "         event_type  \n",
              "0                EA  \n",
              "1                EA  \n",
              "2                EA  \n",
              "3                EA  \n",
              "4                EA  \n",
              "...             ...  \n",
              "73245961         VU  \n",
              "73245962         VU  \n",
              "73245963         VU  \n",
              "73245964         VU  \n",
              "73245965         VU  \n",
              "\n",
              "[73245966 rows x 6 columns]"
            ],
            "text/html": [
              "\n",
              "  <div id=\"df-cddf11e8-80e3-417e-8000-0caea3580128\" class=\"colab-df-container\">\n",
              "    <div>\n",
              "<style scoped>\n",
              "    .dataframe tbody tr th:only-of-type {\n",
              "        vertical-align: middle;\n",
              "    }\n",
              "\n",
              "    .dataframe tbody tr th {\n",
              "        vertical-align: top;\n",
              "    }\n",
              "\n",
              "    .dataframe thead th {\n",
              "        text-align: right;\n",
              "    }\n",
              "</style>\n",
              "<table border=\"1\" class=\"dataframe\">\n",
              "  <thead>\n",
              "    <tr style=\"text-align: right;\">\n",
              "      <th></th>\n",
              "      <th>game_id</th>\n",
              "      <th>link_id</th>\n",
              "      <th>idx</th>\n",
              "      <th>cookieid</th>\n",
              "      <th>event_date</th>\n",
              "      <th>event_type</th>\n",
              "    </tr>\n",
              "  </thead>\n",
              "  <tbody>\n",
              "    <tr>\n",
              "      <th>0</th>\n",
              "      <td>242</td>\n",
              "      <td>3260</td>\n",
              "      <td>-1</td>\n",
              "      <td>0-0</td>\n",
              "      <td>2016-05-19 18:12:44.153372</td>\n",
              "      <td>EA</td>\n",
              "    </tr>\n",
              "    <tr>\n",
              "      <th>1</th>\n",
              "      <td>242</td>\n",
              "      <td>3261</td>\n",
              "      <td>-1</td>\n",
              "      <td>0-0</td>\n",
              "      <td>2016-05-19 18:18:04.419495</td>\n",
              "      <td>EA</td>\n",
              "    </tr>\n",
              "    <tr>\n",
              "      <th>2</th>\n",
              "      <td>242</td>\n",
              "      <td>3262</td>\n",
              "      <td>-1</td>\n",
              "      <td>0-0</td>\n",
              "      <td>2016-05-19 18:19:00.665417</td>\n",
              "      <td>EA</td>\n",
              "    </tr>\n",
              "    <tr>\n",
              "      <th>3</th>\n",
              "      <td>242</td>\n",
              "      <td>3263</td>\n",
              "      <td>-1</td>\n",
              "      <td>0-0</td>\n",
              "      <td>2016-05-19 18:19:48.678645</td>\n",
              "      <td>EA</td>\n",
              "    </tr>\n",
              "    <tr>\n",
              "      <th>4</th>\n",
              "      <td>242</td>\n",
              "      <td>3264</td>\n",
              "      <td>-1</td>\n",
              "      <td>0-0</td>\n",
              "      <td>2016-05-19 18:21:56.611650</td>\n",
              "      <td>EA</td>\n",
              "    </tr>\n",
              "    <tr>\n",
              "      <th>...</th>\n",
              "      <td>...</td>\n",
              "      <td>...</td>\n",
              "      <td>...</td>\n",
              "      <td>...</td>\n",
              "      <td>...</td>\n",
              "      <td>...</td>\n",
              "    </tr>\n",
              "    <tr>\n",
              "      <th>73245961</th>\n",
              "      <td>135</td>\n",
              "      <td>3042</td>\n",
              "      <td>32</td>\n",
              "      <td>1618059452-5089</td>\n",
              "      <td>2022-11-07 09:43:24.726066</td>\n",
              "      <td>VU</td>\n",
              "    </tr>\n",
              "    <tr>\n",
              "      <th>73245962</th>\n",
              "      <td>135</td>\n",
              "      <td>16308</td>\n",
              "      <td>34</td>\n",
              "      <td>1618059452-5089</td>\n",
              "      <td>2022-11-07 09:43:29.700739</td>\n",
              "      <td>VU</td>\n",
              "    </tr>\n",
              "    <tr>\n",
              "      <th>73245963</th>\n",
              "      <td>135</td>\n",
              "      <td>44543</td>\n",
              "      <td>40</td>\n",
              "      <td>1618059452-5089</td>\n",
              "      <td>2022-11-07 09:57:15.209875</td>\n",
              "      <td>VU</td>\n",
              "    </tr>\n",
              "    <tr>\n",
              "      <th>73245964</th>\n",
              "      <td>135</td>\n",
              "      <td>3036</td>\n",
              "      <td>47</td>\n",
              "      <td>1618059452-5089</td>\n",
              "      <td>2022-11-07 10:17:12.852845</td>\n",
              "      <td>VU</td>\n",
              "    </tr>\n",
              "    <tr>\n",
              "      <th>73245965</th>\n",
              "      <td>819</td>\n",
              "      <td>30597</td>\n",
              "      <td>28</td>\n",
              "      <td>1667864228-4613</td>\n",
              "      <td>2022-11-08 00:37:08.948462</td>\n",
              "      <td>VU</td>\n",
              "    </tr>\n",
              "  </tbody>\n",
              "</table>\n",
              "<p>73245966 rows × 6 columns</p>\n",
              "</div>\n",
              "    <div class=\"colab-df-buttons\">\n",
              "\n",
              "  <div class=\"colab-df-container\">\n",
              "    <button class=\"colab-df-convert\" onclick=\"convertToInteractive('df-cddf11e8-80e3-417e-8000-0caea3580128')\"\n",
              "            title=\"Convert this dataframe to an interactive table.\"\n",
              "            style=\"display:none;\">\n",
              "\n",
              "  <svg xmlns=\"http://www.w3.org/2000/svg\" height=\"24px\" viewBox=\"0 -960 960 960\">\n",
              "    <path d=\"M120-120v-720h720v720H120Zm60-500h600v-160H180v160Zm220 220h160v-160H400v160Zm0 220h160v-160H400v160ZM180-400h160v-160H180v160Zm440 0h160v-160H620v160ZM180-180h160v-160H180v160Zm440 0h160v-160H620v160Z\"/>\n",
              "  </svg>\n",
              "    </button>\n",
              "\n",
              "  <style>\n",
              "    .colab-df-container {\n",
              "      display:flex;\n",
              "      gap: 12px;\n",
              "    }\n",
              "\n",
              "    .colab-df-convert {\n",
              "      background-color: #E8F0FE;\n",
              "      border: none;\n",
              "      border-radius: 50%;\n",
              "      cursor: pointer;\n",
              "      display: none;\n",
              "      fill: #1967D2;\n",
              "      height: 32px;\n",
              "      padding: 0 0 0 0;\n",
              "      width: 32px;\n",
              "    }\n",
              "\n",
              "    .colab-df-convert:hover {\n",
              "      background-color: #E2EBFA;\n",
              "      box-shadow: 0px 1px 2px rgba(60, 64, 67, 0.3), 0px 1px 3px 1px rgba(60, 64, 67, 0.15);\n",
              "      fill: #174EA6;\n",
              "    }\n",
              "\n",
              "    .colab-df-buttons div {\n",
              "      margin-bottom: 4px;\n",
              "    }\n",
              "\n",
              "    [theme=dark] .colab-df-convert {\n",
              "      background-color: #3B4455;\n",
              "      fill: #D2E3FC;\n",
              "    }\n",
              "\n",
              "    [theme=dark] .colab-df-convert:hover {\n",
              "      background-color: #434B5C;\n",
              "      box-shadow: 0px 1px 3px 1px rgba(0, 0, 0, 0.15);\n",
              "      filter: drop-shadow(0px 1px 2px rgba(0, 0, 0, 0.3));\n",
              "      fill: #FFFFFF;\n",
              "    }\n",
              "  </style>\n",
              "\n",
              "    <script>\n",
              "      const buttonEl =\n",
              "        document.querySelector('#df-cddf11e8-80e3-417e-8000-0caea3580128 button.colab-df-convert');\n",
              "      buttonEl.style.display =\n",
              "        google.colab.kernel.accessAllowed ? 'block' : 'none';\n",
              "\n",
              "      async function convertToInteractive(key) {\n",
              "        const element = document.querySelector('#df-cddf11e8-80e3-417e-8000-0caea3580128');\n",
              "        const dataTable =\n",
              "          await google.colab.kernel.invokeFunction('convertToInteractive',\n",
              "                                                    [key], {});\n",
              "        if (!dataTable) return;\n",
              "\n",
              "        const docLinkHtml = 'Like what you see? Visit the ' +\n",
              "          '<a target=\"_blank\" href=https://colab.research.google.com/notebooks/data_table.ipynb>data table notebook</a>'\n",
              "          + ' to learn more about interactive tables.';\n",
              "        element.innerHTML = '';\n",
              "        dataTable['output_type'] = 'display_data';\n",
              "        await google.colab.output.renderOutput(dataTable, element);\n",
              "        const docLink = document.createElement('div');\n",
              "        docLink.innerHTML = docLinkHtml;\n",
              "        element.appendChild(docLink);\n",
              "      }\n",
              "    </script>\n",
              "  </div>\n",
              "\n",
              "\n",
              "<div id=\"df-49ec09b2-5f48-41e8-adfe-5230a76a4ca7\">\n",
              "  <button class=\"colab-df-quickchart\" onclick=\"quickchart('df-49ec09b2-5f48-41e8-adfe-5230a76a4ca7')\"\n",
              "            title=\"Suggest charts\"\n",
              "            style=\"display:none;\">\n",
              "\n",
              "<svg xmlns=\"http://www.w3.org/2000/svg\" height=\"24px\"viewBox=\"0 0 24 24\"\n",
              "     width=\"24px\">\n",
              "    <g>\n",
              "        <path d=\"M19 3H5c-1.1 0-2 .9-2 2v14c0 1.1.9 2 2 2h14c1.1 0 2-.9 2-2V5c0-1.1-.9-2-2-2zM9 17H7v-7h2v7zm4 0h-2V7h2v10zm4 0h-2v-4h2v4z\"/>\n",
              "    </g>\n",
              "</svg>\n",
              "  </button>\n",
              "\n",
              "<style>\n",
              "  .colab-df-quickchart {\n",
              "      --bg-color: #E8F0FE;\n",
              "      --fill-color: #1967D2;\n",
              "      --hover-bg-color: #E2EBFA;\n",
              "      --hover-fill-color: #174EA6;\n",
              "      --disabled-fill-color: #AAA;\n",
              "      --disabled-bg-color: #DDD;\n",
              "  }\n",
              "\n",
              "  [theme=dark] .colab-df-quickchart {\n",
              "      --bg-color: #3B4455;\n",
              "      --fill-color: #D2E3FC;\n",
              "      --hover-bg-color: #434B5C;\n",
              "      --hover-fill-color: #FFFFFF;\n",
              "      --disabled-bg-color: #3B4455;\n",
              "      --disabled-fill-color: #666;\n",
              "  }\n",
              "\n",
              "  .colab-df-quickchart {\n",
              "    background-color: var(--bg-color);\n",
              "    border: none;\n",
              "    border-radius: 50%;\n",
              "    cursor: pointer;\n",
              "    display: none;\n",
              "    fill: var(--fill-color);\n",
              "    height: 32px;\n",
              "    padding: 0;\n",
              "    width: 32px;\n",
              "  }\n",
              "\n",
              "  .colab-df-quickchart:hover {\n",
              "    background-color: var(--hover-bg-color);\n",
              "    box-shadow: 0 1px 2px rgba(60, 64, 67, 0.3), 0 1px 3px 1px rgba(60, 64, 67, 0.15);\n",
              "    fill: var(--button-hover-fill-color);\n",
              "  }\n",
              "\n",
              "  .colab-df-quickchart-complete:disabled,\n",
              "  .colab-df-quickchart-complete:disabled:hover {\n",
              "    background-color: var(--disabled-bg-color);\n",
              "    fill: var(--disabled-fill-color);\n",
              "    box-shadow: none;\n",
              "  }\n",
              "\n",
              "  .colab-df-spinner {\n",
              "    border: 2px solid var(--fill-color);\n",
              "    border-color: transparent;\n",
              "    border-bottom-color: var(--fill-color);\n",
              "    animation:\n",
              "      spin 1s steps(1) infinite;\n",
              "  }\n",
              "\n",
              "  @keyframes spin {\n",
              "    0% {\n",
              "      border-color: transparent;\n",
              "      border-bottom-color: var(--fill-color);\n",
              "      border-left-color: var(--fill-color);\n",
              "    }\n",
              "    20% {\n",
              "      border-color: transparent;\n",
              "      border-left-color: var(--fill-color);\n",
              "      border-top-color: var(--fill-color);\n",
              "    }\n",
              "    30% {\n",
              "      border-color: transparent;\n",
              "      border-left-color: var(--fill-color);\n",
              "      border-top-color: var(--fill-color);\n",
              "      border-right-color: var(--fill-color);\n",
              "    }\n",
              "    40% {\n",
              "      border-color: transparent;\n",
              "      border-right-color: var(--fill-color);\n",
              "      border-top-color: var(--fill-color);\n",
              "    }\n",
              "    60% {\n",
              "      border-color: transparent;\n",
              "      border-right-color: var(--fill-color);\n",
              "    }\n",
              "    80% {\n",
              "      border-color: transparent;\n",
              "      border-right-color: var(--fill-color);\n",
              "      border-bottom-color: var(--fill-color);\n",
              "    }\n",
              "    90% {\n",
              "      border-color: transparent;\n",
              "      border-bottom-color: var(--fill-color);\n",
              "    }\n",
              "  }\n",
              "</style>\n",
              "\n",
              "  <script>\n",
              "    async function quickchart(key) {\n",
              "      const quickchartButtonEl =\n",
              "        document.querySelector('#' + key + ' button');\n",
              "      quickchartButtonEl.disabled = true;  // To prevent multiple clicks.\n",
              "      quickchartButtonEl.classList.add('colab-df-spinner');\n",
              "      try {\n",
              "        const charts = await google.colab.kernel.invokeFunction(\n",
              "            'suggestCharts', [key], {});\n",
              "      } catch (error) {\n",
              "        console.error('Error during call to suggestCharts:', error);\n",
              "      }\n",
              "      quickchartButtonEl.classList.remove('colab-df-spinner');\n",
              "      quickchartButtonEl.classList.add('colab-df-quickchart-complete');\n",
              "    }\n",
              "    (() => {\n",
              "      let quickchartButtonEl =\n",
              "        document.querySelector('#df-49ec09b2-5f48-41e8-adfe-5230a76a4ca7 button');\n",
              "      quickchartButtonEl.style.display =\n",
              "        google.colab.kernel.accessAllowed ? 'block' : 'none';\n",
              "    })();\n",
              "  </script>\n",
              "</div>\n",
              "    </div>\n",
              "  </div>\n"
            ]
          },
          "metadata": {},
          "execution_count": 3
        }
      ]
    },
    {
      "cell_type": "code",
      "source": [
        "ea_events = all_events[all_events[\"event_type\"] == 'EA'].drop_duplicates([\"link_id\", \"cookieid\"])\n",
        "len(ea_events)"
      ],
      "metadata": {
        "colab": {
          "base_uri": "https://localhost:8080/"
        },
        "id": "Apv4wBDKyqQ0",
        "outputId": "20d135d6-4c73-4fae-8cd4-7ed97d0bedd0"
      },
      "execution_count": 4,
      "outputs": [
        {
          "output_type": "execute_result",
          "data": {
            "text/plain": [
              "19210040"
            ]
          },
          "metadata": {},
          "execution_count": 4
        }
      ]
    },
    {
      "cell_type": "code",
      "source": [
        "skipped_events = all_events[all_events[\"event_type\"].isin(['EP', 'EN', 'EL'])].drop_duplicates([\"link_id\", \"cookieid\"])\n",
        "len(skipped_events)"
      ],
      "metadata": {
        "colab": {
          "base_uri": "https://localhost:8080/"
        },
        "id": "O7ICmqF9zbxL",
        "outputId": "d062e094-b99a-4145-e8ed-d2d46cdc92f9"
      },
      "execution_count": 5,
      "outputs": [
        {
          "output_type": "execute_result",
          "data": {
            "text/plain": [
              "2131461"
            ]
          },
          "metadata": {},
          "execution_count": 5
        }
      ]
    },
    {
      "cell_type": "code",
      "source": [
        "upvoted_events = all_events[all_events[\"event_type\"] == 'VU'].drop_duplicates([\"link_id\", \"cookieid\"])\n",
        "len(upvoted_events)"
      ],
      "metadata": {
        "colab": {
          "base_uri": "https://localhost:8080/"
        },
        "id": "5Ogy8n2Dzwsy",
        "outputId": "ef60c1c0-7499-444b-a649-ee917b9c7474"
      },
      "execution_count": 6,
      "outputs": [
        {
          "output_type": "execute_result",
          "data": {
            "text/plain": [
              "22464"
            ]
          },
          "metadata": {},
          "execution_count": 6
        }
      ]
    },
    {
      "cell_type": "code",
      "source": [
        "downvoted_events = all_events[all_events[\"event_type\"] == 'VD'].drop_duplicates([\"link_id\", \"cookieid\"])\n",
        "len(downvoted_events)"
      ],
      "metadata": {
        "colab": {
          "base_uri": "https://localhost:8080/"
        },
        "id": "xCkcpmUJ0Vus",
        "outputId": "fc43aad3-f921-4875-f4d9-79aeb28cd8dc"
      },
      "execution_count": 7,
      "outputs": [
        {
          "output_type": "execute_result",
          "data": {
            "text/plain": [
              "13436"
            ]
          },
          "metadata": {},
          "execution_count": 7
        }
      ]
    },
    {
      "cell_type": "code",
      "source": [
        "remove_vote_events = all_events[all_events[\"event_type\"] == 'RM'].drop_duplicates([\"link_id\", \"cookieid\"])\n",
        "len(remove_vote_events)"
      ],
      "metadata": {
        "colab": {
          "base_uri": "https://localhost:8080/"
        },
        "id": "0huS59_60jHs",
        "outputId": "2857714e-8591-45c9-b23a-7c8d7f257e7c"
      },
      "execution_count": 8,
      "outputs": [
        {
          "output_type": "execute_result",
          "data": {
            "text/plain": [
              "15540"
            ]
          },
          "metadata": {},
          "execution_count": 8
        }
      ]
    },
    {
      "cell_type": "code",
      "source": [
        "ea_events = ea_events.groupby(['link_id']).agg({\n",
        "    'cookieid': list,\n",
        "}).reset_index()"
      ],
      "metadata": {
        "id": "JmGDVUoN0wgp"
      },
      "execution_count": 9,
      "outputs": []
    },
    {
      "cell_type": "code",
      "source": [
        "skipped_events = skipped_events.groupby(['link_id']).agg({\n",
        "    'cookieid': list,\n",
        "}).reset_index()"
      ],
      "metadata": {
        "id": "1elibC51-yFU"
      },
      "execution_count": 10,
      "outputs": []
    },
    {
      "cell_type": "code",
      "source": [
        "upvoted_events = upvoted_events.groupby(['link_id']).agg({\n",
        "    'cookieid': list,\n",
        "}).reset_index()\n"
      ],
      "metadata": {
        "id": "4a87ctfZ1lyW"
      },
      "execution_count": 11,
      "outputs": []
    },
    {
      "cell_type": "code",
      "source": [
        "downvoted_events = downvoted_events.groupby(['link_id']).agg({\n",
        "    'cookieid': list,\n",
        "}).reset_index()"
      ],
      "metadata": {
        "id": "6pMJVWoK3MOJ"
      },
      "execution_count": 12,
      "outputs": []
    },
    {
      "cell_type": "code",
      "source": [
        "remove_vote_events = remove_vote_events.groupby(['link_id']).agg({\n",
        "    'cookieid': list,\n",
        "}).reset_index()"
      ],
      "metadata": {
        "id": "oEJEf5yZ3RXT"
      },
      "execution_count": 13,
      "outputs": []
    },
    {
      "cell_type": "code",
      "source": [
        "ea_events[\"len\"] = ea_events.cookieid.map(len)\n",
        "ea_events = ea_events[ea_events[\"len\"] > 1]"
      ],
      "metadata": {
        "id": "btxgkwkt7q6V"
      },
      "execution_count": 14,
      "outputs": []
    },
    {
      "cell_type": "code",
      "source": [
        "skipped_events[\"len\"] = skipped_events.cookieid.map(len)\n",
        "skipped_events = skipped_events[skipped_events[\"len\"] > 1]"
      ],
      "metadata": {
        "id": "F2F8KwRO7q4O"
      },
      "execution_count": 15,
      "outputs": []
    },
    {
      "cell_type": "code",
      "source": [
        "upvoted_events[\"len\"] = upvoted_events.cookieid.map(len)\n",
        "upvoted_events = upvoted_events[upvoted_events[\"len\"] > 1]"
      ],
      "metadata": {
        "id": "6TND2d3H7q14"
      },
      "execution_count": 16,
      "outputs": []
    },
    {
      "cell_type": "code",
      "source": [
        "downvoted_events[\"len\"] = downvoted_events.cookieid.map(len)\n",
        "downvoted_events = downvoted_events[downvoted_events[\"len\"] > 1]"
      ],
      "metadata": {
        "id": "kC1m79sL7qzw"
      },
      "execution_count": 17,
      "outputs": []
    },
    {
      "cell_type": "code",
      "source": [
        "remove_vote_events[\"len\"] = remove_vote_events.cookieid.map(len)\n",
        "remove_vote_events = remove_vote_events[remove_vote_events[\"len\"] > 1]"
      ],
      "metadata": {
        "id": "sofJyxLa3RKR"
      },
      "execution_count": 18,
      "outputs": []
    },
    {
      "cell_type": "code",
      "source": [
        "sentences = ea_events[\"cookieid\"].tolist() + skipped_events[\"cookieid\"].tolist() \\\n",
        " + upvoted_events[\"cookieid\"].tolist() + downvoted_events[\"cookieid\"].tolist() + remove_vote_events[\"cookieid\"].tolist()"
      ],
      "metadata": {
        "id": "MKY0tjl95vVK"
      },
      "execution_count": 19,
      "outputs": []
    },
    {
      "cell_type": "code",
      "source": [
        "len(sentences)"
      ],
      "metadata": {
        "colab": {
          "base_uri": "https://localhost:8080/"
        },
        "id": "zwNIzC36-gnr",
        "outputId": "5fdef9fa-6a0f-4857-a218-877d45ddac18"
      },
      "execution_count": 20,
      "outputs": [
        {
          "output_type": "execute_result",
          "data": {
            "text/plain": [
              "90189"
            ]
          },
          "metadata": {},
          "execution_count": 20
        }
      ]
    },
    {
      "cell_type": "code",
      "source": [
        "from gensim.models import Word2Vec\n",
        "\n",
        "model = Word2Vec(\n",
        "    sentences=sentences,\n",
        "    vector_size=50,\n",
        "    window=1000,\n",
        "    min_count=0,\n",
        "    workers=7\n",
        ")"
      ],
      "metadata": {
        "id": "SjMhiS6U-_BQ"
      },
      "execution_count": 22,
      "outputs": []
    },
    {
      "cell_type": "code",
      "source": [
        "model.build_vocab(sentences, progress_per=10000)\n"
      ],
      "metadata": {
        "colab": {
          "base_uri": "https://localhost:8080/"
        },
        "id": "J4ZQ80oMBkVL",
        "outputId": "f625af27-4e72-451d-bbb3-522306e88fed"
      },
      "execution_count": 23,
      "outputs": [
        {
          "output_type": "stream",
          "name": "stderr",
          "text": [
            "WARNING:gensim.models.keyedvectors:sorting after vectors have been allocated is expensive & error-prone\n"
          ]
        }
      ]
    },
    {
      "cell_type": "code",
      "source": [
        "model.train(sentences, total_examples=model.corpus_count, epochs=20, report_delay=1)\n"
      ],
      "metadata": {
        "colab": {
          "base_uri": "https://localhost:8080/"
        },
        "id": "mG1gEO68C_hh",
        "outputId": "4c4bf9ba-64f0-40f8-ff8e-c4f41249d32f"
      },
      "execution_count": 24,
      "outputs": [
        {
          "output_type": "stream",
          "name": "stderr",
          "text": [
            "WARNING:gensim.models.word2vec:Effective 'alpha' higher than previous training cycles\n"
          ]
        },
        {
          "output_type": "execute_result",
          "data": {
            "text/plain": [
              "(423096120, 427337500)"
            ]
          },
          "metadata": {},
          "execution_count": 24
        }
      ]
    },
    {
      "cell_type": "code",
      "source": [
        "from gensim.models import KeyedVectors\n",
        "word_vectors = model.wv\n",
        "word_vectors.save(\"/content/drive/MyDrive/musicrecom/wv/word2vec.wordvectors\")"
      ],
      "metadata": {
        "id": "kuJDwpppDIGe"
      },
      "execution_count": 25,
      "outputs": []
    },
    {
      "cell_type": "code",
      "source": [],
      "metadata": {
        "id": "zaAXLgiJEWGj"
      },
      "execution_count": null,
      "outputs": []
    }
  ]
}