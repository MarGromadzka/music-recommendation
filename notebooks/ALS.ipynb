{
  "nbformat": 4,
  "nbformat_minor": 0,
  "metadata": {
    "colab": {
      "provenance": []
    },
    "kernelspec": {
      "name": "python3",
      "display_name": "Python 3"
    },
    "language_info": {
      "name": "python"
    }
  },
  "cells": [
    {
      "cell_type": "code",
      "source": [
        "!pip install pyspark"
      ],
      "metadata": {
        "id": "3rxb_V1aazCA",
        "colab": {
          "base_uri": "https://localhost:8080/"
        },
        "outputId": "6078b993-99b5-48a4-8e8d-bb3ea6e0dcc8"
      },
      "execution_count": 2,
      "outputs": [
        {
          "output_type": "stream",
          "name": "stdout",
          "text": [
            "Looking in indexes: https://pypi.org/simple, https://us-python.pkg.dev/colab-wheels/public/simple/\n",
            "Collecting pyspark\n",
            "  Downloading pyspark-3.4.0.tar.gz (310.8 MB)\n",
            "\u001b[2K     \u001b[90m━━━━━━━━━━━━━━━━━━━━━━━━━━━━━━━━━━━━━━━\u001b[0m \u001b[32m310.8/310.8 MB\u001b[0m \u001b[31m4.0 MB/s\u001b[0m eta \u001b[36m0:00:00\u001b[0m\n",
            "\u001b[?25h  Preparing metadata (setup.py) ... \u001b[?25l\u001b[?25hdone\n",
            "Requirement already satisfied: py4j==0.10.9.7 in /usr/local/lib/python3.10/dist-packages (from pyspark) (0.10.9.7)\n",
            "Building wheels for collected packages: pyspark\n",
            "  Building wheel for pyspark (setup.py) ... \u001b[?25l\u001b[?25hdone\n",
            "  Created wheel for pyspark: filename=pyspark-3.4.0-py2.py3-none-any.whl size=311317145 sha256=972474b632f7f9dc8052a2351991b273ec9c92c721902ce501124d4fb7430bd1\n",
            "  Stored in directory: /root/.cache/pip/wheels/7b/1b/4b/3363a1d04368e7ff0d408e57ff57966fcdf00583774e761327\n",
            "Successfully built pyspark\n",
            "Installing collected packages: pyspark\n",
            "Successfully installed pyspark-3.4.0\n"
          ]
        }
      ]
    },
    {
      "cell_type": "code",
      "execution_count": 3,
      "metadata": {
        "id": "o7KIxM0izc4_"
      },
      "outputs": [],
      "source": [
        "from pyspark.sql.functions import col, explode\n"
      ]
    },
    {
      "cell_type": "code",
      "source": [
        "from google.colab import drive\n",
        "drive.mount('/content/gdrive')"
      ],
      "metadata": {
        "id": "toxMYiG1c80t",
        "colab": {
          "base_uri": "https://localhost:8080/"
        },
        "outputId": "a8f2ef13-540c-4a3e-817a-9e40e80db2c5"
      },
      "execution_count": 4,
      "outputs": [
        {
          "output_type": "stream",
          "name": "stdout",
          "text": [
            "Mounted at /content/gdrive\n"
          ]
        }
      ]
    },
    {
      "cell_type": "code",
      "source": [
        "from pyspark.sql import SparkSession\n",
        "#spark.stop()\n",
        "spark = SparkSession \\\n",
        ".builder \\\n",
        ".config(\"spark.executor.instances\", \"5\")\\\n",
        ".config('spark.driver.memory','1g')\\\n",
        ".config('spark.executor.memory', '2g') \\\n",
        ".getOrCreate()"
      ],
      "metadata": {
        "id": "RB2Wze-kztYt"
      },
      "execution_count": 5,
      "outputs": []
    },
    {
      "cell_type": "code",
      "source": [
        "df = spark.read.csv('/content/gdrive/MyDrive/musicrecom/melodice/user_song_with_more_listenings.csv', sep=',', inferSchema=True, header=True, nullValue='NA', nanValue='NA',emptyValue='NA').dropna()\n"
      ],
      "metadata": {
        "id": "HnpqhTaC0IiF"
      },
      "execution_count": 6,
      "outputs": []
    },
    {
      "cell_type": "code",
      "source": [],
      "metadata": {
        "id": "49yR5mtmAGgl"
      },
      "execution_count": 6,
      "outputs": []
    },
    {
      "cell_type": "code",
      "source": [
        "df"
      ],
      "metadata": {
        "colab": {
          "base_uri": "https://localhost:8080/"
        },
        "id": "05EfmgACu0pS",
        "outputId": "83fcd638-e45c-43a4-fd07-b1ba1b3f85b4"
      },
      "execution_count": 7,
      "outputs": [
        {
          "output_type": "execute_result",
          "data": {
            "text/plain": [
              "DataFrame[link_id: int, cookieid: string, listening_count: int]"
            ]
          },
          "metadata": {},
          "execution_count": 7
        }
      ]
    },
    {
      "cell_type": "code",
      "source": [
        "from pyspark.sql.functions import split, concat_ws\n",
        "df = df.withColumn('cookieid', concat_ws('', split(df['cookieid'], '-').getItem(0), split(df['cookieid'], '-').getItem(1)))"
      ],
      "metadata": {
        "id": "2zsSGHRAl37C"
      },
      "execution_count": 8,
      "outputs": []
    },
    {
      "cell_type": "code",
      "source": [
        "df.show()"
      ],
      "metadata": {
        "colab": {
          "base_uri": "https://localhost:8080/"
        },
        "id": "FPJjgY7d_xgQ",
        "outputId": "9432b371-7556-4e32-e0a6-71404c22f3d1"
      },
      "execution_count": 9,
      "outputs": [
        {
          "output_type": "stream",
          "name": "stdout",
          "text": [
            "+-------+--------------+---------------+\n",
            "|link_id|      cookieid|listening_count|\n",
            "+-------+--------------+---------------+\n",
            "|    444|14932231982246|              1|\n",
            "|    444|14982872233938|              1|\n",
            "|    445|14656624431950|              1|\n",
            "|    445|14679500277317|              1|\n",
            "|    445|14685351613766|              1|\n",
            "|    445|14700003855348|              2|\n",
            "|    445|14718532241859|              1|\n",
            "|    445|14747157932510|              3|\n",
            "|    445|14754104719423|              1|\n",
            "|    445|14759470262098|              3|\n",
            "|    445|14779018817362|              1|\n",
            "|    445|14793081151516|              1|\n",
            "|    445|14794998942955|              1|\n",
            "|    445|14797658782539|              1|\n",
            "|    445|14809469626288|              1|\n",
            "|    445|14817385912078|              1|\n",
            "|    445|14830216339701|              1|\n",
            "|    445|14833119023401|              1|\n",
            "|    445|14850214903835|              4|\n",
            "|    445|14853441377180|              1|\n",
            "+-------+--------------+---------------+\n",
            "only showing top 20 rows\n",
            "\n"
          ]
        }
      ]
    },
    {
      "cell_type": "code",
      "source": [
        "df = df.withColumn('cookieid', col('cookieid').cast('integer')).\\\n",
        "    withColumn('link_id', col('link_id').cast('integer')).\\\n",
        "    withColumn('listening_count', col('listening_count').cast('integer')).dropna()\n"
      ],
      "metadata": {
        "id": "brMyeGjjuwTk"
      },
      "execution_count": 10,
      "outputs": []
    },
    {
      "cell_type": "code",
      "source": [
        "from pyspark.ml.evaluation import RegressionEvaluator\n",
        "from pyspark.ml.recommendation import ALS\n",
        "from pyspark.ml.tuning import ParamGridBuilder, CrossValidator"
      ],
      "metadata": {
        "id": "NPWETfIq2_I0"
      },
      "execution_count": 11,
      "outputs": []
    },
    {
      "cell_type": "code",
      "source": [
        "(train, test) = df.randomSplit([0.7, 0.3], seed = 1234)\n",
        "als = ALS(userCol=\"cookieid\", itemCol=\"link_id\", ratingCol=\"listening_count\", nonnegative = True, implicitPrefs = False)"
      ],
      "metadata": {
        "id": "biNkLfe72h8V"
      },
      "execution_count": 12,
      "outputs": []
    },
    {
      "cell_type": "code",
      "source": [
        "param_grid = ParamGridBuilder() \\\n",
        "            .addGrid(als.rank, [50, 100,]) \\\n",
        "            .addGrid(als.regParam, [.1, .15]) \\\n",
        "            .build()\n",
        "            # .addGrid(als.maxIter, [5, 50, 100, 200]) \\\n",
        "\n",
        "evaluator = RegressionEvaluator(metricName=\"rmse\", labelCol=\"listening_count\", predictionCol=\"prediction\") \n",
        "print (\"Num models to be tested: \", len(param_grid))"
      ],
      "metadata": {
        "id": "lG6VcOVn3AZM",
        "colab": {
          "base_uri": "https://localhost:8080/"
        },
        "outputId": "0fd3b02f-92de-45be-8060-eb5ac443767f"
      },
      "execution_count": 13,
      "outputs": [
        {
          "output_type": "stream",
          "name": "stdout",
          "text": [
            "Num models to be tested:  4\n"
          ]
        }
      ]
    },
    {
      "cell_type": "code",
      "source": [
        "cv = CrossValidator(estimator=als, estimatorParamMaps=param_grid, evaluator=evaluator, numFolds=5)\n"
      ],
      "metadata": {
        "id": "Ovw0gU9z3f8W"
      },
      "execution_count": 14,
      "outputs": []
    },
    {
      "cell_type": "code",
      "source": [
        "model = cv.fit(train)\n",
        "best_model = model.bestModel\n",
        "best_model"
      ],
      "metadata": {
        "id": "HzVq1S5LD3fD",
        "colab": {
          "base_uri": "https://localhost:8080/"
        },
        "outputId": "9ec2ae4b-10a3-4d24-abbb-e4b83afa8305"
      },
      "execution_count": 15,
      "outputs": [
        {
          "output_type": "execute_result",
          "data": {
            "text/plain": [
              "ALSModel: uid=ALS_0f7d9b78f614, rank=50"
            ]
          },
          "metadata": {},
          "execution_count": 15
        }
      ]
    },
    {
      "cell_type": "code",
      "source": [
        "best_model.write().overwrite().save('/content/gdrive/MyDrive/musicrecom/als')"
      ],
      "metadata": {
        "id": "RYZVhcz0EOlo"
      },
      "execution_count": 16,
      "outputs": []
    },
    {
      "cell_type": "code",
      "source": [
        "test_predictions = best_model.transform(test)"
      ],
      "metadata": {
        "id": "FqdeksHO9sDx"
      },
      "execution_count": 17,
      "outputs": []
    },
    {
      "cell_type": "code",
      "source": [
        "test_predictions.show()\n"
      ],
      "metadata": {
        "id": "1NqqwodE-JL0",
        "colab": {
          "base_uri": "https://localhost:8080/"
        },
        "outputId": "a5740718-8b08-4990-8a90-b7f3e9a3f7fc"
      },
      "execution_count": 18,
      "outputs": [
        {
          "output_type": "stream",
          "name": "stdout",
          "text": [
            "+-------+----------+---------------+----------+\n",
            "|link_id|  cookieid|listening_count|prediction|\n",
            "+-------+----------+---------------+----------+\n",
            "|    925|1464810685|              1| 2.7671483|\n",
            "|    905|         0|              1|       NaN|\n",
            "|   1869|         0|              1|       NaN|\n",
            "|    927|1464810685|              1|0.69178706|\n",
            "|    932|         0|              1|       NaN|\n",
            "|   3250|         0|              1|       NaN|\n",
            "|   3404|         0|              1|       NaN|\n",
            "|   3407|         0|              1|       NaN|\n",
            "|    899|         0|              5|       NaN|\n",
            "|   2521|         0|              1|       NaN|\n",
            "|   3357|         0|              1|       NaN|\n",
            "|   3396|         0|              1|       NaN|\n",
            "|   2396|         0|              1|       NaN|\n",
            "|   2525|         0|              1|       NaN|\n",
            "|   3175|         0|              1|       NaN|\n",
            "|   3360|         0|              1|       NaN|\n",
            "|   3402|         0|              1|       NaN|\n",
            "|   3403|         0|              1|       NaN|\n",
            "|   1874|         0|              1|       NaN|\n",
            "|   2397|         0|              1|       NaN|\n",
            "+-------+----------+---------------+----------+\n",
            "only showing top 20 rows\n",
            "\n"
          ]
        }
      ]
    },
    {
      "cell_type": "code",
      "source": [
        "nrecommendations = best_model.recommendForAllUsers(10)\n",
        "nrecommendations.limit(10).show()"
      ],
      "metadata": {
        "id": "HqwZ55-m-Rjw",
        "colab": {
          "base_uri": "https://localhost:8080/"
        },
        "outputId": "0ede51da-444c-411c-ce4b-94ba97d3f637"
      },
      "execution_count": 19,
      "outputs": [
        {
          "output_type": "stream",
          "name": "stdout",
          "text": [
            "+----------+--------------------+\n",
            "|  cookieid|     recommendations|\n",
            "+----------+--------------------+\n",
            "|         0|[{925, 23.664034}...|\n",
            "|1464810685|[{925, 2.7671483}...|\n",
            "+----------+--------------------+\n",
            "\n"
          ]
        }
      ]
    },
    {
      "cell_type": "code",
      "source": [
        "nrecommendations = nrecommendations\\\n",
        "    .withColumn(\"rec_exp\", explode(\"recommendations\"))\\\n",
        "    .select('cookieid', col(\"rec_exp.link_id\"), col(\"rec_exp.rating\"))\n",
        "\n",
        "nrecommendations.limit(10).show()"
      ],
      "metadata": {
        "id": "_zUaiEsc-YZB",
        "colab": {
          "base_uri": "https://localhost:8080/"
        },
        "outputId": "1062df90-f11d-4fc8-dcc4-34ec318cc0d7"
      },
      "execution_count": 21,
      "outputs": [
        {
          "output_type": "stream",
          "name": "stdout",
          "text": [
            "+--------+-------+---------+\n",
            "|cookieid|link_id|   rating|\n",
            "+--------+-------+---------+\n",
            "|       0|    925|23.664034|\n",
            "|       0|    926| 8.523148|\n",
            "|       0|   3260|5.9160085|\n",
            "|       0|    927|5.9160085|\n",
            "|       0|   3263|4.9300075|\n",
            "|       0|   3262|4.9300075|\n",
            "|       0|   3261|4.9300075|\n",
            "|       0|    928|4.9300075|\n",
            "|       0|   3265| 3.944006|\n",
            "|       0|   3264| 3.944006|\n",
            "+--------+-------+---------+\n",
            "\n"
          ]
        }
      ]
    }
  ]
}