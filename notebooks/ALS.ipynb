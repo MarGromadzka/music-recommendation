{
  "nbformat": 4,
  "nbformat_minor": 0,
  "metadata": {
    "colab": {
      "provenance": []
    },
    "kernelspec": {
      "name": "python3",
      "display_name": "Python 3"
    },
    "language_info": {
      "name": "python"
    }
  },
  "cells": [
    {
      "cell_type": "code",
      "source": [
        "!pip install pyspark"
      ],
      "metadata": {
        "id": "3rxb_V1aazCA",
        "colab": {
          "base_uri": "https://localhost:8080/"
        },
        "outputId": "2e8188e1-eb67-4f85-b0b7-292df68cab85"
      },
      "execution_count": 1,
      "outputs": [
        {
          "output_type": "stream",
          "name": "stdout",
          "text": [
            "Looking in indexes: https://pypi.org/simple, https://us-python.pkg.dev/colab-wheels/public/simple/\n",
            "Requirement already satisfied: pyspark in /usr/local/lib/python3.7/dist-packages (3.3.0)\n",
            "Requirement already satisfied: py4j==0.10.9.5 in /usr/local/lib/python3.7/dist-packages (from pyspark) (0.10.9.5)\n"
          ]
        }
      ]
    },
    {
      "cell_type": "code",
      "execution_count": 2,
      "metadata": {
        "id": "o7KIxM0izc4_"
      },
      "outputs": [],
      "source": [
        "import pandas as pd\n",
        "from pyspark.sql.functions import col, explode\n"
      ]
    },
    {
      "cell_type": "code",
      "source": [
        "from google.colab import drive\n",
        "drive.mount('/content/gdrive')"
      ],
      "metadata": {
        "id": "toxMYiG1c80t",
        "colab": {
          "base_uri": "https://localhost:8080/"
        },
        "outputId": "92b3e3e1-2f2a-4e6d-a446-52a9564d0bb7"
      },
      "execution_count": 3,
      "outputs": [
        {
          "output_type": "stream",
          "name": "stdout",
          "text": [
            "Drive already mounted at /content/gdrive; to attempt to forcibly remount, call drive.mount(\"/content/gdrive\", force_remount=True).\n"
          ]
        }
      ]
    },
    {
      "cell_type": "code",
      "source": [
        "from pyspark.sql import SparkSession\n",
        "#spark.stop()\n",
        "spark = SparkSession \\\n",
        ".builder \\\n",
        ".config(\"spark.executor.instances\", \"1\")\\\n",
        ".config('spark.driver.memory','1g')\\\n",
        ".config('spark.executor.memory', '1g') \\\n",
        ".getOrCreate()"
      ],
      "metadata": {
        "id": "RB2Wze-kztYt"
      },
      "execution_count": 4,
      "outputs": []
    },
    {
      "cell_type": "code",
      "source": [
        "df = spark.read.csv('/content/gdrive/MyDrive/musicrecom/hetrec2011-lastfm-2k/user_artists.dat', sep='\\t', inferSchema=True, header=True, nullValue='NA', nanValue='NA',emptyValue='NA').dropna()\n"
      ],
      "metadata": {
        "id": "HnpqhTaC0IiF"
      },
      "execution_count": 5,
      "outputs": []
    },
    {
      "cell_type": "code",
      "source": [
        "from pyspark.sql.functions import countDistinct\n",
        "noUsers = df.select(countDistinct(\"userID\"))\n",
        "noUsers.show()"
      ],
      "metadata": {
        "id": "2zsSGHRAl37C",
        "colab": {
          "base_uri": "https://localhost:8080/"
        },
        "outputId": "1553f48c-2894-4fe0-ffa9-bfa203b7716b"
      },
      "execution_count": 6,
      "outputs": [
        {
          "output_type": "stream",
          "name": "stdout",
          "text": [
            "+----------------------+\n",
            "|count(DISTINCT userID)|\n",
            "+----------------------+\n",
            "|                  1892|\n",
            "+----------------------+\n",
            "\n"
          ]
        }
      ]
    },
    {
      "cell_type": "code",
      "source": [
        "df = df.withColumn('userID', col('userID').cast('integer')).\\\n",
        "    withColumn('artistID', col('artistID').cast('integer')).\\\n",
        "    withColumn('weight', col('weight').cast('integer'))\n"
      ],
      "metadata": {
        "id": "brMyeGjjuwTk"
      },
      "execution_count": 7,
      "outputs": []
    },
    {
      "cell_type": "code",
      "source": [
        "from pyspark.ml.evaluation import RegressionEvaluator\n",
        "from pyspark.ml.recommendation import ALS\n",
        "from pyspark.ml.tuning import ParamGridBuilder, CrossValidator"
      ],
      "metadata": {
        "id": "NPWETfIq2_I0"
      },
      "execution_count": 8,
      "outputs": []
    },
    {
      "cell_type": "code",
      "source": [
        "(train, test) = df.randomSplit([0.8, 0.2], seed = 1234)\n",
        "als = ALS(userCol=\"userID\", itemCol=\"artistID\", ratingCol=\"weight\", nonnegative = True, implicitPrefs = False, coldStartStrategy=\"drop\")"
      ],
      "metadata": {
        "id": "biNkLfe72h8V"
      },
      "execution_count": 9,
      "outputs": []
    },
    {
      "cell_type": "code",
      "source": [
        "param_grid = ParamGridBuilder() \\\n",
        "            .addGrid(als.rank, [50, 100,]) \\\n",
        "            .addGrid(als.regParam, [.1, .15]) \\\n",
        "            .build()\n",
        "            # .addGrid(als.maxIter, [5, 50, 100, 200]) \\\n",
        "\n",
        "evaluator = RegressionEvaluator(metricName=\"rmse\", labelCol=\"weight\", predictionCol=\"prediction\") \n",
        "print (\"Num models to be tested: \", len(param_grid))"
      ],
      "metadata": {
        "id": "lG6VcOVn3AZM",
        "colab": {
          "base_uri": "https://localhost:8080/"
        },
        "outputId": "ea43be42-b2fa-41ac-a877-acc7f495cdf7"
      },
      "execution_count": 10,
      "outputs": [
        {
          "output_type": "stream",
          "name": "stdout",
          "text": [
            "Num models to be tested:  4\n"
          ]
        }
      ]
    },
    {
      "cell_type": "code",
      "source": [
        "cv = CrossValidator(estimator=als, estimatorParamMaps=param_grid, evaluator=evaluator, numFolds=5)\n"
      ],
      "metadata": {
        "id": "Ovw0gU9z3f8W"
      },
      "execution_count": 11,
      "outputs": []
    },
    {
      "cell_type": "code",
      "source": [
        "model = cv.fit(train)\n",
        "best_model = model.bestModel\n",
        "best_model"
      ],
      "metadata": {
        "id": "HzVq1S5LD3fD",
        "colab": {
          "base_uri": "https://localhost:8080/"
        },
        "outputId": "aaa7984d-d704-4393-fe1f-8b717976d5a8"
      },
      "execution_count": 12,
      "outputs": [
        {
          "output_type": "execute_result",
          "data": {
            "text/plain": [
              "ALSModel: uid=ALS_221447f39b23, rank=100"
            ]
          },
          "metadata": {},
          "execution_count": 12
        }
      ]
    },
    {
      "cell_type": "code",
      "source": [
        "best_model.write().overwrite().save('/content/gdrive/MyDrive/musicrecom/als')"
      ],
      "metadata": {
        "id": "RYZVhcz0EOlo"
      },
      "execution_count": 15,
      "outputs": []
    },
    {
      "cell_type": "code",
      "source": [
        "test_predictions = best_model.transform(test)\n",
        "?"
      ],
      "metadata": {
        "colab": {
          "base_uri": "https://localhost:8080/"
        },
        "id": "FqdeksHO9sDx",
        "outputId": "8c0934c0-6433-465c-bb4c-c154c1d279b5"
      },
      "execution_count": 16,
      "outputs": [
        {
          "output_type": "stream",
          "name": "stdout",
          "text": [
            "5597.569265835045\n"
          ]
        }
      ]
    },
    {
      "cell_type": "code",
      "source": [
        "test_predictions.show()\n"
      ],
      "metadata": {
        "colab": {
          "base_uri": "https://localhost:8080/"
        },
        "id": "1NqqwodE-JL0",
        "outputId": "83958c6e-042d-4f2e-bf5f-ca45605bc29f"
      },
      "execution_count": 17,
      "outputs": [
        {
          "output_type": "stream",
          "name": "stdout",
          "text": [
            "+------+--------+------+----------+\n",
            "|userID|artistID|weight|prediction|\n",
            "+------+--------+------+----------+\n",
            "|   148|     619|   227|  283.2136|\n",
            "|   148|     632|   195| 350.75766|\n",
            "|   148|    1118|   214| 417.04828|\n",
            "|   148|    1409|   282|   138.543|\n",
            "|   148|    1986|   202| 186.01276|\n",
            "|   148|    3341|   280|  68.48562|\n",
            "|   148|    3352|   212|  79.40968|\n",
            "|   148|    3354|   203| 164.13243|\n",
            "|   148|    3357|   192| 157.21304|\n",
            "|   463|      46|    10| 3.2048187|\n",
            "|   463|     389|    16| 62.228577|\n",
            "|   463|     726|    14| 36.672028|\n",
            "|   463|    7159|    26|  4.746778|\n",
            "|   463|    7170|    13| 16.858574|\n",
            "|   471|     212|   352|  108.3551|\n",
            "|   471|     227|  1901| 1814.5715|\n",
            "|   471|     267|    86| 24.974503|\n",
            "|   471|     718|   117| 56.381977|\n",
            "|   471|    1254|    65| 40.655174|\n",
            "|   471|    1369|   133| 91.567085|\n",
            "+------+--------+------+----------+\n",
            "only showing top 20 rows\n",
            "\n"
          ]
        }
      ]
    },
    {
      "cell_type": "code",
      "source": [
        "nrecommendations = best_model.recommendForAllUsers(10)\n",
        "nrecommendations.limit(10).show()"
      ],
      "metadata": {
        "colab": {
          "base_uri": "https://localhost:8080/"
        },
        "id": "HqwZ55-m-Rjw",
        "outputId": "fe1cd949-5722-4071-ed32-16136db88802"
      },
      "execution_count": 18,
      "outputs": [
        {
          "output_type": "stream",
          "name": "stdout",
          "text": [
            "+------+--------------------+\n",
            "|userID|     recommendations|\n",
            "+------+--------------------+\n",
            "|     3|[{67, 36321.96}, ...|\n",
            "|     5|[{687, 4289.433},...|\n",
            "|     6|[{511, 1133.7229}...|\n",
            "|     9|[{1672, 17271.17}...|\n",
            "|    12|[{1672, 387618.12...|\n",
            "|    13|[{2309, 28248.559...|\n",
            "|    15|[{2044, 4506.3647...|\n",
            "|    16|[{4271, 6463.8247...|\n",
            "|    17|[{294, 46319.355}...|\n",
            "|    20|[{203, 23886.137}...|\n",
            "+------+--------------------+\n",
            "\n"
          ]
        }
      ]
    },
    {
      "cell_type": "code",
      "source": [
        "nrecommendations = nrecommendations\\\n",
        "    .withColumn(\"rec_exp\", explode(\"recommendations\"))\\\n",
        "    .select('userId', col(\"rec_exp.artistID\"), col(\"rec_exp.rating\"))\n",
        "\n",
        "nrecommendations.limit(10).show()"
      ],
      "metadata": {
        "colab": {
          "base_uri": "https://localhost:8080/"
        },
        "id": "_zUaiEsc-YZB",
        "outputId": "65697f7f-a709-42bf-fed4-4cdb0e458bda"
      },
      "execution_count": 20,
      "outputs": [
        {
          "output_type": "stream",
          "name": "stdout",
          "text": [
            "+------+--------+---------+\n",
            "|userId|artistID|   rating|\n",
            "+------+--------+---------+\n",
            "|     3|      67| 36321.96|\n",
            "|     3|    3478| 29221.01|\n",
            "|     3|     701|29174.752|\n",
            "|     3|   14986|25873.701|\n",
            "|     3|     744| 25219.01|\n",
            "|     3|    2044|24737.242|\n",
            "|     3|     289|23932.045|\n",
            "|     3|   14987|23744.113|\n",
            "|     3|     207|23654.018|\n",
            "|     3|     154|23618.371|\n",
            "+------+--------+---------+\n",
            "\n"
          ]
        }
      ]
    },
    {
      "cell_type": "code",
      "source": [
        "artists = spark.read.csv('/content/gdrive/MyDrive/musicrecom/hetrec2011-lastfm-2k/artists.dat', sep='\\t', inferSchema=True, header=True, nullValue='NA', nanValue='NA',emptyValue='NA').dropna()\n"
      ],
      "metadata": {
        "id": "1uwFL_Xf-p-B"
      },
      "execution_count": 23,
      "outputs": []
    },
    {
      "cell_type": "code",
      "source": [
        "nrecommendations.join(artists, nrecommendations.artistID == artists.id).filter('userId = 3').orderBy(\"rating\").show()\n"
      ],
      "metadata": {
        "colab": {
          "base_uri": "https://localhost:8080/"
        },
        "id": "EldesNFE-_9a",
        "outputId": "21f3ff53-5395-4a29-9e35-aab82df14d95"
      },
      "execution_count": 30,
      "outputs": [
        {
          "output_type": "stream",
          "name": "stdout",
          "text": [
            "+------+--------+---------+-----+--------------------+--------------------+--------------------+\n",
            "|userId|artistID|   rating|   id|                name|                 url|          pictureURL|\n",
            "+------+--------+---------+-----+--------------------+--------------------+--------------------+\n",
            "|     3|     154|23618.371|  154|           Radiohead|http://www.last.f...|http://userserve-...|\n",
            "|     3|     207|23654.018|  207|      Arctic Monkeys|http://www.last.f...|http://userserve-...|\n",
            "|     3|   14987|23744.113|14987|RICHARD DIXON-COM...|http://www.last.f...|http://userserve-...|\n",
            "|     3|     289|23932.045|  289|      Britney Spears|http://www.last.f...|http://userserve-...|\n",
            "|     3|    2044|24737.242| 2044|     Sarah Brightman|http://www.last.f...|http://userserve-...|\n",
            "|     3|     744| 25219.01|  744|            Autechre|http://www.last.f...|http://userserve-...|\n",
            "|     3|   14986|25873.701|14986|         Dicky Dixon|http://www.last.f...|http://userserve-...|\n",
            "|     3|     701|29174.752|  701|             Shakira|http://www.last.f...|http://userserve-...|\n",
            "|     3|    3478| 29221.01| 3478|     Luciano Ligabue|http://www.last.f...|http://userserve-...|\n",
            "|     3|      67| 36321.96|   67|             Madonna|http://www.last.f...|http://userserve-...|\n",
            "+------+--------+---------+-----+--------------------+--------------------+--------------------+\n",
            "\n"
          ]
        }
      ]
    },
    {
      "cell_type": "code",
      "source": [],
      "metadata": {
        "id": "2GCF6fPz_NhP"
      },
      "execution_count": null,
      "outputs": []
    }
  ]
}