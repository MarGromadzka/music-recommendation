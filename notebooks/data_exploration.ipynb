{
  "cells": [
    {
      "cell_type": "code",
      "execution_count": null,
      "metadata": {
        "colab": {
          "base_uri": "https://localhost:8080/"
        },
        "id": "48MA4UEb-r7t",
        "outputId": "aa814c2a-7442-49e4-b4de-70ae6eb52dce"
      },
      "outputs": [
        {
          "name": "stdout",
          "output_type": "stream",
          "text": [
            "Looking in indexes: https://pypi.org/simple, https://us-python.pkg.dev/colab-wheels/public/simple/\n",
            "Collecting pyspark\n",
            "  Downloading pyspark-3.4.0.tar.gz (310.8 MB)\n",
            "\u001b[2K     \u001b[90m━━━━━━━━━━━━━━━━━━━━━━━━━━━━━━━━━━━━━━━\u001b[0m \u001b[32m310.8/310.8 MB\u001b[0m \u001b[31m3.5 MB/s\u001b[0m eta \u001b[36m0:00:00\u001b[0m\n",
            "\u001b[?25h  Preparing metadata (setup.py) ... \u001b[?25l\u001b[?25hdone\n",
            "Requirement already satisfied: py4j==0.10.9.7 in /usr/local/lib/python3.10/dist-packages (from pyspark) (0.10.9.7)\n",
            "Building wheels for collected packages: pyspark\n",
            "  Building wheel for pyspark (setup.py) ... \u001b[?25l\u001b[?25hdone\n",
            "  Created wheel for pyspark: filename=pyspark-3.4.0-py2.py3-none-any.whl size=311317145 sha256=db7f24ef58c17c8dd6f744d16e9f2b03ea8698f49e2a09e40afd5680b88363eb\n",
            "  Stored in directory: /root/.cache/pip/wheels/7b/1b/4b/3363a1d04368e7ff0d408e57ff57966fcdf00583774e761327\n",
            "Successfully built pyspark\n",
            "Installing collected packages: pyspark\n",
            "Successfully installed pyspark-3.4.0\n"
          ]
        }
      ],
      "source": [
        "!pip install pyspark"
      ]
    },
    {
      "cell_type": "code",
      "execution_count": null,
      "metadata": {
        "id": "FPCSbUE0-ti4"
      },
      "outputs": [],
      "source": [
        "import pandas as pd\n",
        "from pyspark.sql.functions import col, explode\n"
      ]
    },
    {
      "cell_type": "code",
      "execution_count": null,
      "metadata": {
        "colab": {
          "base_uri": "https://localhost:8080/"
        },
        "id": "ab_1YyhO-3ry",
        "outputId": "44ed8b0d-1fd6-4afb-8cc2-69d94eab309c"
      },
      "outputs": [
        {
          "name": "stdout",
          "output_type": "stream",
          "text": [
            "Mounted at /content/gdrive\n"
          ]
        }
      ],
      "source": [
        "from google.colab import drive\n",
        "drive.mount('/content/gdrive')"
      ]
    },
    {
      "cell_type": "code",
      "execution_count": null,
      "metadata": {
        "id": "l8F-v-f3-55s"
      },
      "outputs": [],
      "source": [
        "from pyspark.sql import SparkSession\n",
        "#spark.stop()\n",
        "spark = SparkSession \\\n",
        ".builder \\\n",
        ".config(\"spark.executor.instances\", \"1\")\\\n",
        ".config('spark.driver.memory','1g')\\\n",
        ".config('spark.executor.memory', '1g') \\\n",
        ".getOrCreate()"
      ]
    },
    {
      "cell_type": "code",
      "execution_count": null,
      "metadata": {
        "id": "y36x4nZw_Eiv"
      },
      "outputs": [],
      "source": [
        "df = spark.read.csv('/content/gdrive/MyDrive/musicrecom/melodice/melodice_all_events.csv', sep=',', inferSchema=True, header=True, nullValue='NA', nanValue='NA',emptyValue='NA').dropna()\n"
      ]
    },
    {
      "cell_type": "code",
      "execution_count": null,
      "metadata": {
        "colab": {
          "base_uri": "https://localhost:8080/"
        },
        "id": "NvFaqquT_I46",
        "outputId": "44a14eb8-e4cc-49e5-bc77-399e27f10621"
      },
      "outputs": [
        {
          "name": "stdout",
          "output_type": "stream",
          "text": [
            "+-------+-------+---+--------+--------------------+----------+\n",
            "|game_id|link_id|idx|cookieid|          event_date|event_type|\n",
            "+-------+-------+---+--------+--------------------+----------+\n",
            "|    242|   3260| -1|     0-0|2016-05-19 18:12:...|        EA|\n",
            "|    242|   3261| -1|     0-0|2016-05-19 18:18:...|        EA|\n",
            "|    242|   3262| -1|     0-0|2016-05-19 18:19:...|        EA|\n",
            "|    242|   3263| -1|     0-0|2016-05-19 18:19:...|        EA|\n",
            "|    242|   3264| -1|     0-0|2016-05-19 18:21:...|        EA|\n",
            "|    242|   3265| -1|     0-0|2016-05-19 18:50:...|        EA|\n",
            "|    242|   3267| -1|     0-0|2016-05-19 18:56:...|        EA|\n",
            "|    242|   3260| -1|     0-0|2016-05-19 18:59:...|        EA|\n",
            "|    242|   3261| -1|     0-0|2016-05-19 19:04:...|        EA|\n",
            "|    242|   3262| -1|     0-0|2016-05-19 19:05:...|        EA|\n",
            "|    242|   3263| -1|     0-0|2016-05-19 19:06:...|        EA|\n",
            "|    242|   3264| -1|     0-0|2016-05-19 19:08:...|        EA|\n",
            "|    242|   3265| -1|     0-0|2016-05-19 19:13:...|        EA|\n",
            "|    242|   3267| -1|     0-0|2016-05-19 19:18:...|        EA|\n",
            "|    242|   3260| -1|     0-0|2016-05-19 19:21:...|        EA|\n",
            "|    819|   3173| -1|     0-0|2016-05-19 19:25:...|        EA|\n",
            "|    819|   3175| -1|     0-0|2016-05-19 19:32:...|        EA|\n",
            "|    819|   3177| -1|     0-0|2016-05-19 19:39:...|        EA|\n",
            "|    819|   3178| -1|     0-0|2016-05-19 19:43:...|        EA|\n",
            "|    819|   3180| -1|     0-0|2016-05-19 19:46:...|        EA|\n",
            "+-------+-------+---+--------+--------------------+----------+\n",
            "only showing top 20 rows\n",
            "\n"
          ]
        }
      ],
      "source": [
        "df.show()"
      ]
    },
    {
      "cell_type": "code",
      "execution_count": null,
      "metadata": {
        "id": "NO-K4qslcVuw"
      },
      "outputs": [],
      "source": [
        "from pyspark.sql.functions import countDistinct\n"
      ]
    },
    {
      "cell_type": "code",
      "execution_count": null,
      "metadata": {
        "colab": {
          "base_uri": "https://localhost:8080/"
        },
        "id": "VsN4hCTAfcI6",
        "outputId": "271e2482-9b13-4da4-888b-3ec89012f7a7"
      },
      "outputs": [
        {
          "name": "stdout",
          "output_type": "stream",
          "text": [
            "+-------+-------+---+--------+--------------------+----------+\n",
            "|game_id|link_id|idx|cookieid|          event_date|event_type|\n",
            "+-------+-------+---+--------+--------------------+----------+\n",
            "|    242|   3260| -1|     0-0|2016-05-19 18:12:...|        EA|\n",
            "|    242|   3261| -1|     0-0|2016-05-19 18:18:...|        EA|\n",
            "|    242|   3262| -1|     0-0|2016-05-19 18:19:...|        EA|\n",
            "|    242|   3263| -1|     0-0|2016-05-19 18:19:...|        EA|\n",
            "|    242|   3264| -1|     0-0|2016-05-19 18:21:...|        EA|\n",
            "|    242|   3265| -1|     0-0|2016-05-19 18:50:...|        EA|\n",
            "|    242|   3267| -1|     0-0|2016-05-19 18:56:...|        EA|\n",
            "|    242|   3260| -1|     0-0|2016-05-19 18:59:...|        EA|\n",
            "|    242|   3261| -1|     0-0|2016-05-19 19:04:...|        EA|\n",
            "|    242|   3262| -1|     0-0|2016-05-19 19:05:...|        EA|\n",
            "|    242|   3263| -1|     0-0|2016-05-19 19:06:...|        EA|\n",
            "|    242|   3264| -1|     0-0|2016-05-19 19:08:...|        EA|\n",
            "|    242|   3265| -1|     0-0|2016-05-19 19:13:...|        EA|\n",
            "|    242|   3267| -1|     0-0|2016-05-19 19:18:...|        EA|\n",
            "|    242|   3260| -1|     0-0|2016-05-19 19:21:...|        EA|\n",
            "|    819|   3173| -1|     0-0|2016-05-19 19:25:...|        EA|\n",
            "|    819|   3175| -1|     0-0|2016-05-19 19:32:...|        EA|\n",
            "|    819|   3177| -1|     0-0|2016-05-19 19:39:...|        EA|\n",
            "|    819|   3178| -1|     0-0|2016-05-19 19:43:...|        EA|\n",
            "|    819|   3180| -1|     0-0|2016-05-19 19:46:...|        EA|\n",
            "+-------+-------+---+--------+--------------------+----------+\n",
            "only showing top 20 rows\n",
            "\n"
          ]
        }
      ],
      "source": [
        "listened = df.filter(df.event_type == \"EA\")\n",
        "listened.show()"
      ]
    },
    {
      "cell_type": "code",
      "source": [
        "listened.count()"
      ],
      "metadata": {
        "colab": {
          "base_uri": "https://localhost:8080/"
        },
        "id": "IMgaTG5Vxn4c",
        "outputId": "0337e382-ccb6-4ef8-9b9b-74b3f290fce6"
      },
      "execution_count": null,
      "outputs": [
        {
          "output_type": "execute_result",
          "data": {
            "text/plain": [
              "30504155"
            ]
          },
          "metadata": {},
          "execution_count": 18
        }
      ]
    },
    {
      "cell_type": "code",
      "execution_count": null,
      "metadata": {
        "colab": {
          "base_uri": "https://localhost:8080/"
        },
        "id": "ecSlO0o4ixqq",
        "outputId": "3b93fe23-f6be-491b-8277-165e165395b4"
      },
      "outputs": [
        {
          "data": {
            "text/plain": [
              "26716"
            ]
          },
          "execution_count": 10,
          "metadata": {},
          "output_type": "execute_result"
        }
      ],
      "source": [
        "upvoted = df.filter(df.event_type == \"VU\")\n",
        "upvoted.count()"
      ]
    },
    {
      "cell_type": "code",
      "execution_count": null,
      "metadata": {
        "colab": {
          "base_uri": "https://localhost:8080/"
        },
        "id": "KC2Pm79PjAX_",
        "outputId": "3edb03ac-b140-459f-f3c7-dc42ef7292b1"
      },
      "outputs": [
        {
          "data": {
            "text/plain": [
              "17190"
            ]
          },
          "execution_count": 11,
          "metadata": {},
          "output_type": "execute_result"
        }
      ],
      "source": [
        "downvoted = df.filter(df.event_type == \"VD\")\n",
        "downvoted.count()"
      ]
    },
    {
      "cell_type": "code",
      "execution_count": null,
      "metadata": {
        "colab": {
          "background_save": true
        },
        "id": "6i8DZ2LYjKST",
        "outputId": "566a8969-7e20-493c-f419-1ba5b99f44ad"
      },
      "outputs": [
        {
          "data": {
            "text/plain": [
              "2483347"
            ]
          },
          "execution_count": 12,
          "metadata": {},
          "output_type": "execute_result"
        }
      ],
      "source": [
        "skipped = df.filter((df.event_type == \"EP\") | (df.event_type == \"EN\") | (df.event_type == \"EL\"))\n",
        "skipped.count()"
      ]
    },
    {
      "cell_type": "code",
      "execution_count": null,
      "metadata": {
        "colab": {
          "background_save": true
        },
        "id": "idOEWyWr2ao7"
      },
      "outputs": [],
      "source": [
        "from pyspark.sql.functions import countDistinct, count\n"
      ]
    },
    {
      "cell_type": "code",
      "execution_count": null,
      "metadata": {
        "colab": {
          "background_save": true
        },
        "id": "X4RolYEMjzya"
      },
      "outputs": [],
      "source": [
        "user_song = listened.groupBy(\"link_id\", \"cookieid\").count()"
      ]
    },
    {
      "cell_type": "code",
      "execution_count": null,
      "metadata": {
        "colab": {
          "background_save": true
        },
        "id": "CrntTVZb5BI5"
      },
      "outputs": [],
      "source": [
        "user_song = user_song.withColumnRenamed(\"count\", \"listening_count\")"
      ]
    },
    {
      "cell_type": "code",
      "execution_count": null,
      "metadata": {
        "colab": {
          "background_save": true
        },
        "id": "sLan0QVc2kt1"
      },
      "outputs": [],
      "source": [
        "user_listenings = user_song.groupBy(\"cookieid\").sum(\"listening_count\").withColumnRenamed(\"sum(listening_count)\", \"sum_listenings\")"
      ]
    },
    {
      "cell_type": "markdown",
      "metadata": {
        "id": "-zFIB35ooeTf"
      },
      "source": []
    },
    {
      "cell_type": "code",
      "source": [
        "user_listenings.count()"
      ],
      "metadata": {
        "colab": {
          "base_uri": "https://localhost:8080/"
        },
        "id": "AIMjMpg9zied",
        "outputId": "b60732ca-e477-49a9-efc9-2ca86084cefc"
      },
      "execution_count": null,
      "outputs": [
        {
          "output_type": "execute_result",
          "data": {
            "text/plain": [
              "1624896"
            ]
          },
          "metadata": {},
          "execution_count": 19
        }
      ]
    },
    {
      "cell_type": "code",
      "execution_count": null,
      "metadata": {
        "id": "FWXHeilaE7pq"
      },
      "outputs": [],
      "source": [
        "# upvoted.write.option(\"header\",True).csv(\"/content/gdrive/MyDrive/musicrecom/melodice/upvoted.csv\")\n"
      ]
    },
    {
      "cell_type": "code",
      "execution_count": null,
      "metadata": {
        "colab": {
          "background_save": true
        },
        "id": "SV9pKihpoUy6"
      },
      "outputs": [],
      "source": [
        "# downvoted.write.option(\"header\",True).csv(\"/content/gdrive/MyDrive/musicrecom/melodice/downvoted.csv\")\n"
      ]
    },
    {
      "cell_type": "code",
      "execution_count": null,
      "metadata": {
        "colab": {
          "background_save": true
        },
        "id": "uDejoY7dokAF"
      },
      "outputs": [],
      "source": [
        "# skipped.write.option(\"header\",True).csv(\"/content/gdrive/MyDrive/musicrecom/melodice/skipped.csv\")\n"
      ]
    },
    {
      "cell_type": "code",
      "execution_count": null,
      "metadata": {
        "colab": {
          "background_save": true
        },
        "id": "Wz2FoFSootWF"
      },
      "outputs": [],
      "source": [
        "# user_song.write.option(\"header\",True).csv(\"/content/gdrive/MyDrive/musicrecom/melodice/user_song_2.csv\")"
      ]
    },
    {
      "cell_type": "code",
      "execution_count": null,
      "metadata": {
        "colab": {
          "background_save": true
        },
        "id": "1OK9psdRo5Al"
      },
      "outputs": [],
      "source": [
        "# user_listenings.write.option(\"header\",True).csv(\"/content/gdrive/MyDrive/musicrecom/melodice/user_listenings.csv\")"
      ]
    },
    {
      "cell_type": "code",
      "execution_count": null,
      "metadata": {
        "colab": {
          "background_save": true
        },
        "id": "D6ljyRLQvmFy"
      },
      "outputs": [],
      "source": []
    }
  ],
  "metadata": {
    "colab": {
      "toc_visible": true,
      "provenance": []
    },
    "kernelspec": {
      "display_name": "Python 3",
      "name": "python3"
    },
    "language_info": {
      "name": "python"
    }
  },
  "nbformat": 4,
  "nbformat_minor": 0
}