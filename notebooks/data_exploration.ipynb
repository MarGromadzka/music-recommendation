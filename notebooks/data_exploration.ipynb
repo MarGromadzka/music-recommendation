{
  "cells": [
    {
      "cell_type": "code",
      "execution_count": 1,
      "metadata": {
        "colab": {
          "base_uri": "https://localhost:8080/"
        },
        "id": "48MA4UEb-r7t",
        "outputId": "ba971d1a-b174-44f9-8ba8-acce11063b64"
      },
      "outputs": [
        {
          "output_type": "stream",
          "name": "stdout",
          "text": [
            "Looking in indexes: https://pypi.org/simple, https://us-python.pkg.dev/colab-wheels/public/simple/\n",
            "Collecting pyspark\n",
            "  Downloading pyspark-3.3.2.tar.gz (281.4 MB)\n",
            "\u001b[2K     \u001b[90m━━━━━━━━━━━━━━━━━━━━━━━━━━━━━━━━━━━━━━━\u001b[0m \u001b[32m281.4/281.4 MB\u001b[0m \u001b[31m4.7 MB/s\u001b[0m eta \u001b[36m0:00:00\u001b[0m\n",
            "\u001b[?25h  Preparing metadata (setup.py) ... \u001b[?25l\u001b[?25hdone\n",
            "Collecting py4j==0.10.9.5\n",
            "  Downloading py4j-0.10.9.5-py2.py3-none-any.whl (199 kB)\n",
            "\u001b[2K     \u001b[90m━━━━━━━━━━━━━━━━━━━━━━━━━━━━━━━━━━━━━━\u001b[0m \u001b[32m199.7/199.7 KB\u001b[0m \u001b[31m11.9 MB/s\u001b[0m eta \u001b[36m0:00:00\u001b[0m\n",
            "\u001b[?25hBuilding wheels for collected packages: pyspark\n",
            "  Building wheel for pyspark (setup.py) ... \u001b[?25l\u001b[?25hdone\n",
            "  Created wheel for pyspark: filename=pyspark-3.3.2-py2.py3-none-any.whl size=281824025 sha256=14d77fa99b536df53e808ae3c9b4df43153083501ada669208cc07ee3d5f6069\n",
            "  Stored in directory: /root/.cache/pip/wheels/6c/e3/9b/0525ce8a69478916513509d43693511463c6468db0de237c86\n",
            "Successfully built pyspark\n",
            "Installing collected packages: py4j, pyspark\n",
            "Successfully installed py4j-0.10.9.5 pyspark-3.3.2\n"
          ]
        }
      ],
      "source": [
        "!pip install pyspark"
      ]
    },
    {
      "cell_type": "code",
      "execution_count": 2,
      "metadata": {
        "id": "FPCSbUE0-ti4"
      },
      "outputs": [],
      "source": [
        "import pandas as pd\n",
        "from pyspark.sql.functions import col, explode\n"
      ]
    },
    {
      "cell_type": "code",
      "execution_count": 3,
      "metadata": {
        "colab": {
          "base_uri": "https://localhost:8080/"
        },
        "id": "ab_1YyhO-3ry",
        "outputId": "5e9d57b8-4e50-408a-cbb7-3c8fcdb06397"
      },
      "outputs": [
        {
          "output_type": "stream",
          "name": "stdout",
          "text": [
            "Mounted at /content/gdrive\n"
          ]
        }
      ],
      "source": [
        "from google.colab import drive\n",
        "drive.mount('/content/gdrive')"
      ]
    },
    {
      "cell_type": "code",
      "execution_count": 4,
      "metadata": {
        "id": "l8F-v-f3-55s"
      },
      "outputs": [],
      "source": [
        "from pyspark.sql import SparkSession\n",
        "#spark.stop()\n",
        "spark = SparkSession \\\n",
        ".builder \\\n",
        ".config(\"spark.executor.instances\", \"1\")\\\n",
        ".config('spark.driver.memory','1g')\\\n",
        ".config('spark.executor.memory', '1g') \\\n",
        ".getOrCreate()"
      ]
    },
    {
      "cell_type": "code",
      "execution_count": 5,
      "metadata": {
        "colab": {
          "base_uri": "https://localhost:8080/"
        },
        "id": "8wczRssn-7sy",
        "outputId": "549b28a1-2800-4c0c-e2f8-c42aac2a2563"
      },
      "outputs": [
        {
          "output_type": "stream",
          "name": "stdout",
          "text": [
            "+-------+-------+-----+---+----+---+---+---+-----+---+---+-------+-----+--------------------+---------+-----------------+-----------+-----------+--------------------+--------------------+--------------------+--------------------+--------------------+\n",
            "|game_id|link_id|   EA| EE|  EL| EN| EP| RM|   SA| VD| VU|current|valid|          game_title|game_year|game_playing_time|game_rating|game_voters|           game_desc|           game_tags|          link_title|            link_url|       link_duration|\n",
            "+-------+-------+-----+---+----+---+---+---+-----+---+---+-------+-----+--------------------+---------+-----------------+-----------+-----------+--------------------+--------------------+--------------------+--------------------+--------------------+\n",
            "|  15504|    445|  3.0|0.0| 0.0|0.0|0.0|0.0|  3.0|0.0|0.0|      0|    0|         Goblin King|     1996|              180|        6.8|         20|\"In \"\"Goblin King...| with their small...| come down from t...|               towns|             castles|\n",
            "|  61616|    445| 12.0|0.0| 2.0|0.0|0.0|0.0| 15.0|0.0|0.0|      0|    0|   Krosmaster: Quest|     2015|              180|    6.79258|        520|\"Unlike the head-...| or as a competit...| more than 600 pi...| 16 terrain parts...| more than 40 set...|\n",
            "|  94396|    446|  2.0|0.0| 1.0|2.0|0.0|0.0|  5.0|0.0|0.0|      0|    0|Dungeons & Dragon...|     2008|               60|    7.68041|        460|\"Another board-ga...| \"\"Dungeons & Dra...| and \"\"Dungeons &...| with pre-generat...| a Dungeon Tiles-...|\n",
            "|   3536|    446|  1.0|0.0| 0.0|0.0|0.0|0.0|  1.0|0.0|0.0|      0|    0|    Heroica: Fortaan|     2011|               20|    5.97469|        858|\"LEGO's Heroica s...|             potions|                keys|                etc.| depending on wha...|\n",
            "|  61616|    446| 14.0|0.0| 1.0|1.0|0.0|0.0| 17.0|0.0|0.0|      0|    0|   Krosmaster: Quest|     2015|              180|    6.79258|        520|\"Unlike the head-...| or as a competit...| more than 600 pi...| 16 terrain parts...| more than 40 set...|\n",
            "|   3536|    450|  1.0|0.0| 0.0|0.0|0.0|0.0|  1.0|0.0|0.0|      0|    0|    Heroica: Fortaan|     2011|               20|    5.97469|        858|\"LEGO's Heroica s...|             potions|                keys|                etc.| depending on wha...|\n",
            "|  15504|    451|  2.0|0.0| 0.0|0.0|0.0|0.0|  3.0|0.0|0.0|      0|    0|         Goblin King|     1996|              180|        6.8|         20|\"In \"\"Goblin King...| with their small...| come down from t...|               towns|             castles|\n",
            "|   2970|    451|  8.0|0.0| 1.0|1.0|0.0|0.0| 15.0|0.0|0.0|      0|    0|            Dungeon!|     1975|               30|     5.9927|       4096|\"In many ways \"\"D...| although much si...| fighting monster...| the monsters bec...| who can cast spe...|\n",
            "|   4354|    455|  5.0|0.0| 0.0|0.0|0.0|0.0|  5.0|0.0|0.0|      0|    0|          Masquerade|     2003|               90|     6.0146|        400|\"This Japanese fa...|                heal|      trigger events| fight monsters f...| or fight other p...|\n",
            "|    321|   4867|  4.0|0.0| 9.0|1.0|0.0|0.0| 29.0|0.0|0.0|      0|    0|              Myrmes|     2012|              120|    7.26989|       5354|\"In Myrmes, origi...| earth and aphids...| all in a quest t...|                  er| anthill. After t...|\n",
            "|  83507|   4867|159.0|1.0| 8.0|3.0|0.0|0.0|193.0|0.0|0.0|      0|    0|    One Deck Dungeon|     2016|               45|    7.00037|       9944|\"One Deck Dungeon...| difficult to sur...| with a character...|              though| depicts both the...|\n",
            "|   8749|   5017|  0.0|0.0| 0.0|0.0|0.0|0.0|  1.0|0.0|0.0|      0|    0|Emmerlaus Duel of...|     1996|               15|    6.11386|        127|\"Non CCG card gam...|       \"\"Communion\"\"|       \"\"Abundance\"\"|         \"\"Destiny\"\"| \"\"Sorcery\"\" and ...|\n",
            "|  15504|   5021|  3.0|0.0| 0.0|0.0|0.0|0.0|  4.0|0.0|0.0|      0|    0|         Goblin King|     1996|              180|        6.8|         20|\"In \"\"Goblin King...| with their small...| come down from t...|               towns|             castles|\n",
            "|  61616|   5021| 12.0|0.0| 3.0|1.0|0.0|0.0| 18.0|0.0|0.0|      0|    0|   Krosmaster: Quest|     2015|              180|    6.79258|        520|\"Unlike the head-...| or as a competit...| more than 600 pi...| 16 terrain parts...| more than 40 set...|\n",
            "|  94396|   1652|  1.0|0.0| 0.0|0.0|0.0|0.0|  2.0|0.0|0.0|      0|    0|Dungeons & Dragon...|     2008|               60|    7.68041|        460|\"Another board-ga...| \"\"Dungeons & Dra...| and \"\"Dungeons &...| with pre-generat...| a Dungeon Tiles-...|\n",
            "|   3203|   1652|  1.0|0.0| 1.0|0.0|0.0|0.0|  2.0|0.0|0.0|      0|    0|Dungeons & Dragon...|     2016|               60|    7.57078|        399|\"Dungeons & Drago...| players roll the...|            buy dice| send their party...| and then strike ...|\n",
            "|     54|    933|738.0|3.0|35.0|9.0|0.0|0.0|834.0|0.0|1.0|      1|    1|              Troyes|     2010|               90|     7.7348|      21419|\"In Troyes (prono...| players recreate...| which represent ...|            military| and civil. Playe...|\n",
            "|  83507|    933|  9.0|0.0| 3.0|1.0|0.0|0.0| 12.0|0.0|0.0|      0|    0|    One Deck Dungeon|     2016|               45|    7.00037|       9944|\"One Deck Dungeon...| difficult to sur...| with a character...|              though| depicts both the...|\n",
            "|   2970|    933|  9.0|0.0| 1.0|0.0|0.0|0.0| 11.0|0.0|0.0|      0|    0|            Dungeon!|     1975|               30|     5.9927|       4096|\"In many ways \"\"D...| although much si...| fighting monster...| the monsters bec...| who can cast spe...|\n",
            "|   3342|    933|  1.0|0.0| 0.0|0.0|0.0|0.0|  1.0|0.0|0.0|      0|    0| Plague & Pestilence|     1993|               45|    6.21974|        695|\"A light card gam...| players attempt ...| players attempt ...|          pestilence| or other deadly ...|\n",
            "+-------+-------+-----+---+----+---+---+---+-----+---+---+-------+-----+--------------------+---------+-----------------+-----------+-----------+--------------------+--------------------+--------------------+--------------------+--------------------+\n",
            "only showing top 20 rows\n",
            "\n"
          ]
        }
      ],
      "source": [
        "df = spark.read.csv('/content/gdrive/MyDrive/musicrecom/melodice/melodice.csv', sep=',', inferSchema=True, header=True, nullValue='NA', nanValue='NA',emptyValue='NA').dropna()\n",
        "df.show()"
      ]
    },
    {
      "cell_type": "code",
      "execution_count": 5,
      "metadata": {
        "id": "y36x4nZw_Eiv"
      },
      "outputs": [],
      "source": [
        "df = spark.read.csv('/content/gdrive/MyDrive/musicrecom/melodice/melodice_all_events.csv', sep=',', inferSchema=True, header=True, nullValue='NA', nanValue='NA',emptyValue='NA').dropna()\n"
      ]
    },
    {
      "cell_type": "code",
      "execution_count": 6,
      "metadata": {
        "colab": {
          "base_uri": "https://localhost:8080/"
        },
        "id": "NvFaqquT_I46",
        "outputId": "6d278d94-5687-4d73-8339-afc2c7db251f"
      },
      "outputs": [
        {
          "output_type": "stream",
          "name": "stdout",
          "text": [
            "+-------+-------+---+--------+--------------------+----------+\n",
            "|game_id|link_id|idx|cookieid|          event_date|event_type|\n",
            "+-------+-------+---+--------+--------------------+----------+\n",
            "|    242|   3260| -1|     0-0|2016-05-19 18:12:...|        EA|\n",
            "|    242|   3261| -1|     0-0|2016-05-19 18:18:...|        EA|\n",
            "|    242|   3262| -1|     0-0|2016-05-19 18:19:...|        EA|\n",
            "|    242|   3263| -1|     0-0|2016-05-19 18:19:...|        EA|\n",
            "|    242|   3264| -1|     0-0|2016-05-19 18:21:...|        EA|\n",
            "|    242|   3265| -1|     0-0|2016-05-19 18:50:...|        EA|\n",
            "|    242|   3267| -1|     0-0|2016-05-19 18:56:...|        EA|\n",
            "|    242|   3260| -1|     0-0|2016-05-19 18:59:...|        EA|\n",
            "|    242|   3261| -1|     0-0|2016-05-19 19:04:...|        EA|\n",
            "|    242|   3262| -1|     0-0|2016-05-19 19:05:...|        EA|\n",
            "|    242|   3263| -1|     0-0|2016-05-19 19:06:...|        EA|\n",
            "|    242|   3264| -1|     0-0|2016-05-19 19:08:...|        EA|\n",
            "|    242|   3265| -1|     0-0|2016-05-19 19:13:...|        EA|\n",
            "|    242|   3267| -1|     0-0|2016-05-19 19:18:...|        EA|\n",
            "|    242|   3260| -1|     0-0|2016-05-19 19:21:...|        EA|\n",
            "|    819|   3173| -1|     0-0|2016-05-19 19:25:...|        EA|\n",
            "|    819|   3175| -1|     0-0|2016-05-19 19:32:...|        EA|\n",
            "|    819|   3177| -1|     0-0|2016-05-19 19:39:...|        EA|\n",
            "|    819|   3178| -1|     0-0|2016-05-19 19:43:...|        EA|\n",
            "|    819|   3180| -1|     0-0|2016-05-19 19:46:...|        EA|\n",
            "+-------+-------+---+--------+--------------------+----------+\n",
            "only showing top 20 rows\n",
            "\n"
          ]
        }
      ],
      "source": [
        "df.show()"
      ]
    },
    {
      "cell_type": "code",
      "execution_count": 7,
      "metadata": {
        "id": "NO-K4qslcVuw"
      },
      "outputs": [],
      "source": [
        "from pyspark.sql.functions import countDistinct\n"
      ]
    },
    {
      "cell_type": "code",
      "execution_count": 8,
      "metadata": {
        "colab": {
          "base_uri": "https://localhost:8080/"
        },
        "id": "sJjsdIY9Bl7c",
        "outputId": "3332c6e1-71ce-44fb-c10f-95a687712b47"
      },
      "outputs": [
        {
          "output_type": "stream",
          "name": "stdout",
          "text": [
            "+------------------------+\n",
            "|count(DISTINCT cookieid)|\n",
            "+------------------------+\n",
            "|                 5505306|\n",
            "+------------------------+\n",
            "\n"
          ]
        }
      ],
      "source": [
        "df.select(countDistinct(\"cookieid\")).show()"
      ]
    },
    {
      "cell_type": "code",
      "execution_count": 9,
      "metadata": {
        "id": "_Pks1RJTbprI",
        "colab": {
          "base_uri": "https://localhost:8080/"
        },
        "outputId": "861158fe-90ca-489e-c4bb-c266b86876cc"
      },
      "outputs": [
        {
          "output_type": "execute_result",
          "data": {
            "text/plain": [
              "73245966"
            ]
          },
          "metadata": {},
          "execution_count": 9
        }
      ],
      "source": [
        "df.count()"
      ]
    },
    {
      "cell_type": "code",
      "execution_count": 10,
      "metadata": {
        "id": "VsN4hCTAfcI6",
        "colab": {
          "base_uri": "https://localhost:8080/"
        },
        "outputId": "a6a2f0e3-c9a9-4c23-d354-749cccc96fd5"
      },
      "outputs": [
        {
          "output_type": "stream",
          "name": "stdout",
          "text": [
            "+-------+-------+---+--------+--------------------+----------+\n",
            "|game_id|link_id|idx|cookieid|          event_date|event_type|\n",
            "+-------+-------+---+--------+--------------------+----------+\n",
            "|    242|   3260| -1|     0-0|2016-05-19 18:12:...|        EA|\n",
            "|    242|   3261| -1|     0-0|2016-05-19 18:18:...|        EA|\n",
            "|    242|   3262| -1|     0-0|2016-05-19 18:19:...|        EA|\n",
            "|    242|   3263| -1|     0-0|2016-05-19 18:19:...|        EA|\n",
            "|    242|   3264| -1|     0-0|2016-05-19 18:21:...|        EA|\n",
            "|    242|   3265| -1|     0-0|2016-05-19 18:50:...|        EA|\n",
            "|    242|   3267| -1|     0-0|2016-05-19 18:56:...|        EA|\n",
            "|    242|   3260| -1|     0-0|2016-05-19 18:59:...|        EA|\n",
            "|    242|   3261| -1|     0-0|2016-05-19 19:04:...|        EA|\n",
            "|    242|   3262| -1|     0-0|2016-05-19 19:05:...|        EA|\n",
            "|    242|   3263| -1|     0-0|2016-05-19 19:06:...|        EA|\n",
            "|    242|   3264| -1|     0-0|2016-05-19 19:08:...|        EA|\n",
            "|    242|   3265| -1|     0-0|2016-05-19 19:13:...|        EA|\n",
            "|    242|   3267| -1|     0-0|2016-05-19 19:18:...|        EA|\n",
            "|    242|   3260| -1|     0-0|2016-05-19 19:21:...|        EA|\n",
            "|    819|   3173| -1|     0-0|2016-05-19 19:25:...|        EA|\n",
            "|    819|   3175| -1|     0-0|2016-05-19 19:32:...|        EA|\n",
            "|    819|   3177| -1|     0-0|2016-05-19 19:39:...|        EA|\n",
            "|    819|   3178| -1|     0-0|2016-05-19 19:43:...|        EA|\n",
            "|    819|   3180| -1|     0-0|2016-05-19 19:46:...|        EA|\n",
            "+-------+-------+---+--------+--------------------+----------+\n",
            "only showing top 20 rows\n",
            "\n"
          ]
        }
      ],
      "source": [
        "listened = df.filter(df.event_type == \"EA\")\n",
        "listened.show()"
      ]
    },
    {
      "cell_type": "code",
      "execution_count": 11,
      "metadata": {
        "id": "8oFi7fUpivSi",
        "colab": {
          "base_uri": "https://localhost:8080/"
        },
        "outputId": "066fdfc1-1952-46a8-b076-81a7138fc2ad"
      },
      "outputs": [
        {
          "output_type": "execute_result",
          "data": {
            "text/plain": [
              "30504155"
            ]
          },
          "metadata": {},
          "execution_count": 11
        }
      ],
      "source": [
        "listened.count()"
      ]
    },
    {
      "cell_type": "code",
      "execution_count": 12,
      "metadata": {
        "id": "ecSlO0o4ixqq",
        "colab": {
          "base_uri": "https://localhost:8080/"
        },
        "outputId": "8182050e-6b9a-4756-d8cb-be21c067fd74"
      },
      "outputs": [
        {
          "output_type": "execute_result",
          "data": {
            "text/plain": [
              "26716"
            ]
          },
          "metadata": {},
          "execution_count": 12
        }
      ],
      "source": [
        "upvoted = df.filter(df.event_type == \"VU\")\n",
        "upvoted.count()"
      ]
    },
    {
      "cell_type": "code",
      "execution_count": 13,
      "metadata": {
        "id": "KC2Pm79PjAX_",
        "colab": {
          "base_uri": "https://localhost:8080/"
        },
        "outputId": "6b31319c-0cea-45fc-d8d6-7cf1c8e89461"
      },
      "outputs": [
        {
          "output_type": "execute_result",
          "data": {
            "text/plain": [
              "17190"
            ]
          },
          "metadata": {},
          "execution_count": 13
        }
      ],
      "source": [
        "downvoted = df.filter(df.event_type == \"VD\")\n",
        "downvoted.count()"
      ]
    },
    {
      "cell_type": "code",
      "execution_count": 14,
      "metadata": {
        "id": "6i8DZ2LYjKST",
        "colab": {
          "base_uri": "https://localhost:8080/"
        },
        "outputId": "dfd8fa02-afe9-4090-e5d7-c6087c1049df"
      },
      "outputs": [
        {
          "output_type": "execute_result",
          "data": {
            "text/plain": [
              "2483347"
            ]
          },
          "metadata": {},
          "execution_count": 14
        }
      ],
      "source": [
        "skipped = df.filter((df.event_type == \"EP\") | (df.event_type == \"EN\") | (df.event_type == \"EL\"))\n",
        "skipped.count()"
      ]
    },
    {
      "cell_type": "code",
      "execution_count": 15,
      "metadata": {
        "id": "idOEWyWr2ao7"
      },
      "outputs": [],
      "source": [
        "from pyspark.sql.functions import countDistinct, count\n"
      ]
    },
    {
      "cell_type": "code",
      "execution_count": 16,
      "metadata": {
        "id": "X4RolYEMjzya"
      },
      "outputs": [],
      "source": [
        "user_song = listened.groupBy(\"link_id\", \"cookieid\").count()"
      ]
    },
    {
      "cell_type": "code",
      "execution_count": 17,
      "metadata": {
        "id": "CrntTVZb5BI5"
      },
      "outputs": [],
      "source": [
        "user_song = user_song.withColumnRenamed(\"count\", \"listening_count\")"
      ]
    },
    {
      "cell_type": "code",
      "execution_count": 19,
      "metadata": {
        "id": "sLan0QVc2kt1"
      },
      "outputs": [],
      "source": [
        "user_listenings = user_song.groupBy(\"cookieid\").sum(\"listening_count\")"
      ]
    },
    {
      "cell_type": "code",
      "execution_count": 20,
      "metadata": {
        "id": "MHXY2JW44cos",
        "colab": {
          "base_uri": "https://localhost:8080/"
        },
        "outputId": "246ac895-4091-48c7-9dac-d091a0afb8f2"
      },
      "outputs": [
        {
          "output_type": "stream",
          "name": "stdout",
          "text": [
            "+---------------+--------------------+\n",
            "|       cookieid|sum(listening_count)|\n",
            "+---------------+--------------------+\n",
            "|1482655249-4433|                  28|\n",
            "|1577289829-8080|                  76|\n",
            "|1485374646-1865|                  52|\n",
            "|1488726866-5999|                   1|\n",
            "|1500075691-1706|                 100|\n",
            "|1616403835-1792|                1788|\n",
            "|1523575784-2265|                  18|\n",
            "|1577978010-4841|                   8|\n",
            "|1622290810-4476|                  48|\n",
            "|1628959544-9753|                 346|\n",
            "|1485629330-7160|                  20|\n",
            "|1598879289-9764|                  37|\n",
            "|1480717233-1209|                  65|\n",
            "|1505584045-1276|                  21|\n",
            "|1659698672-1089|                   1|\n",
            "|1618766125-5824|                  25|\n",
            "|1546742461-7896|                1039|\n",
            "|1663867712-8142|                  38|\n",
            "|1612868252-6257|                  31|\n",
            "|1478969379-1953|                 399|\n",
            "+---------------+--------------------+\n",
            "only showing top 20 rows\n",
            "\n"
          ]
        }
      ],
      "source": [
        "user_listenings.show()"
      ]
    },
    {
      "cell_type": "code",
      "source": [
        "from pyspark.sql.functions import mean\n",
        "\n",
        "user_listenings.select(mean(\"sum(listening_count)\")).show()\n"
      ],
      "metadata": {
        "colab": {
          "base_uri": "https://localhost:8080/"
        },
        "id": "YgZgmc7CvxZA",
        "outputId": "5621ed68-1551-40de-a043-4c3c21c7ca97"
      },
      "execution_count": 23,
      "outputs": [
        {
          "output_type": "stream",
          "name": "stdout",
          "text": [
            "+-------------------------+\n",
            "|avg(sum(listening_count))|\n",
            "+-------------------------+\n",
            "|       18.772989163614163|\n",
            "+-------------------------+\n",
            "\n"
          ]
        }
      ]
    },
    {
      "cell_type": "code",
      "source": [
        "# test = spark.read.csv(\"user_song.csv\", header='true')\n",
        "# test.show()"
      ],
      "metadata": {
        "id": "orpxFCvZysUt"
      },
      "execution_count": null,
      "outputs": []
    },
    {
      "cell_type": "markdown",
      "metadata": {
        "id": "-zFIB35ooeTf"
      },
      "source": []
    }
  ],
  "metadata": {
    "colab": {
      "provenance": []
    },
    "kernelspec": {
      "display_name": "Python 3",
      "name": "python3"
    },
    "language_info": {
      "name": "python"
    }
  },
  "nbformat": 4,
  "nbformat_minor": 0
}