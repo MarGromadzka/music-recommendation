{
  "nbformat": 4,
  "nbformat_minor": 0,
  "metadata": {
    "colab": {
      "provenance": []
    },
    "kernelspec": {
      "name": "python3",
      "display_name": "Python 3"
    },
    "language_info": {
      "name": "python"
    }
  },
  "cells": [
    {
      "cell_type": "code",
      "execution_count": 1,
      "metadata": {
        "colab": {
          "base_uri": "https://localhost:8080/",
          "height": 0
        },
        "id": "mfvdjWPA41eA",
        "outputId": "1a6acab0-8c9b-4109-d77f-9ee47071db38"
      },
      "outputs": [
        {
          "output_type": "stream",
          "name": "stdout",
          "text": [
            "Looking in indexes: https://pypi.org/simple, https://us-python.pkg.dev/colab-wheels/public/simple/\n",
            "Collecting pyspark\n",
            "  Downloading pyspark-3.4.0.tar.gz (310.8 MB)\n",
            "\u001b[2K     \u001b[90m━━━━━━━━━━━━━━━━━━━━━━━━━━━━━━━━━━━━━━━\u001b[0m \u001b[32m310.8/310.8 MB\u001b[0m \u001b[31m3.8 MB/s\u001b[0m eta \u001b[36m0:00:00\u001b[0m\n",
            "\u001b[?25h  Preparing metadata (setup.py) ... \u001b[?25l\u001b[?25hdone\n",
            "Requirement already satisfied: py4j==0.10.9.7 in /usr/local/lib/python3.10/dist-packages (from pyspark) (0.10.9.7)\n",
            "Building wheels for collected packages: pyspark\n",
            "  Building wheel for pyspark (setup.py) ... \u001b[?25l\u001b[?25hdone\n",
            "  Created wheel for pyspark: filename=pyspark-3.4.0-py2.py3-none-any.whl size=311317145 sha256=9b055be141289e03161dc0d16b47fe827d75921ea91f7d6a15cb75ed4901e41e\n",
            "  Stored in directory: /root/.cache/pip/wheels/7b/1b/4b/3363a1d04368e7ff0d408e57ff57966fcdf00583774e761327\n",
            "Successfully built pyspark\n",
            "Installing collected packages: pyspark\n",
            "Successfully installed pyspark-3.4.0\n",
            "Looking in indexes: https://pypi.org/simple, https://us-python.pkg.dev/colab-wheels/public/simple/\n",
            "Collecting findspark\n",
            "  Downloading findspark-2.0.1-py2.py3-none-any.whl (4.4 kB)\n",
            "Installing collected packages: findspark\n",
            "Successfully installed findspark-2.0.1\n"
          ]
        }
      ],
      "source": [
        "!pip install pyspark\n",
        "!pip install findspark\n",
        "import findspark\n",
        "findspark.init() \n",
        "\n",
        "from pyspark.sql import SparkSession\n",
        "# spark.stop()\n",
        "spark = SparkSession \\\n",
        ".builder \\\n",
        ".config(\"spark.executor.instances\", \"1\")\\\n",
        ".config('spark.driver.memory','1g')\\\n",
        ".config('spark.executor.memory', '1g') \\\n",
        ".config(\"spark.memory.offHeap.enabled\",\"true\") \\\n",
        ".config(\"spark.memory.offHeap.size\",\"10g\") \\\n",
        ".getOrCreate()"
      ]
    },
    {
      "cell_type": "code",
      "source": [
        "from google.colab import drive\n",
        "drive.mount('/content/gdrive')"
      ],
      "metadata": {
        "colab": {
          "base_uri": "https://localhost:8080/",
          "height": 0
        },
        "id": "7XulCqMW5Cee",
        "outputId": "e707900b-852d-4780-a584-678d5eac0581"
      },
      "execution_count": 2,
      "outputs": [
        {
          "output_type": "stream",
          "name": "stdout",
          "text": [
            "Mounted at /content/gdrive\n"
          ]
        }
      ]
    },
    {
      "cell_type": "code",
      "source": [
        "user_song = spark.read.csv('/content/gdrive/MyDrive/musicrecom/melodice/user_song_2.csv', inferSchema=True, header=True, nullValue='NA', nanValue='NA',emptyValue='NA').dropna()"
      ],
      "metadata": {
        "id": "vq8ndEwz5HAw"
      },
      "execution_count": 3,
      "outputs": []
    },
    {
      "cell_type": "code",
      "source": [
        "user_with_more_listenings = spark.read.csv('/content/gdrive/MyDrive/musicrecom/melodice/user_with_more_listenings.csv', inferSchema=True, header=True, nullValue='NA', nanValue='NA',emptyValue='NA').dropna()"
      ],
      "metadata": {
        "id": "gIfQsMw95QiS"
      },
      "execution_count": 4,
      "outputs": []
    },
    {
      "cell_type": "code",
      "source": [
        "user_song.show()"
      ],
      "metadata": {
        "colab": {
          "base_uri": "https://localhost:8080/",
          "height": 0
        },
        "id": "MejWt3K15oTE",
        "outputId": "c9a1ed5f-a611-40bb-db87-9ceb3f86afc0"
      },
      "execution_count": 6,
      "outputs": [
        {
          "output_type": "stream",
          "name": "stdout",
          "text": [
            "+-------+---------------+---------------+\n",
            "|link_id|       cookieid|listening_count|\n",
            "+-------+---------------+---------------+\n",
            "|    444|1491698754-3596|              2|\n",
            "|    444|1494285228-5750|              2|\n",
            "|    444|1500997338-2939|              1|\n",
            "|    445|1465152050-1182|              1|\n",
            "|    445|1465565383-6194|              2|\n",
            "|    445|1467423780-3721|              1|\n",
            "|    445|1467592062-7736|              2|\n",
            "|    445|1469553781-9659|              1|\n",
            "|    445|1469637113-4090|              1|\n",
            "|    445|1470757428-2803|              2|\n",
            "|    445|1470941945-3711|              1|\n",
            "|    445|1471645750-9603|              1|\n",
            "|    445|1474206672-9670|              4|\n",
            "|    445|1475869145-1221|              2|\n",
            "|    445|1477310230-1177|              2|\n",
            "|    445|1477343412-6623|              1|\n",
            "|    445|1477878153-9020|              1|\n",
            "|    445|1478306200-2182|              1|\n",
            "|    445|1478967959-8795|              1|\n",
            "|    445|1479578171-4588|              1|\n",
            "+-------+---------------+---------------+\n",
            "only showing top 20 rows\n",
            "\n"
          ]
        }
      ]
    },
    {
      "cell_type": "code",
      "source": [
        "user_with_more_listenings = user_with_more_listenings.withColumnRenamed(\"cookieid\", \"cookieid_\")"
      ],
      "metadata": {
        "id": "K2LRbczDSuDW"
      },
      "execution_count": 10,
      "outputs": []
    },
    {
      "cell_type": "code",
      "source": [
        "from pyspark.sql.functions import col\n",
        "\n",
        "user_song_with_more_listenings = user_song.join(user_with_more_listenings, user_song.cookieid == user_with_more_listenings.cookieid_).select(\"link_id\", \"cookieid\", \"listening_count\")"
      ],
      "metadata": {
        "id": "U_FKHb1w7Jjw"
      },
      "execution_count": 12,
      "outputs": []
    },
    {
      "cell_type": "code",
      "source": [
        "user_song_with_more_listenings.show()"
      ],
      "metadata": {
        "id": "W5rwURnHmT30",
        "outputId": "26f5c4cb-aa51-4910-fa6b-71107026e64e",
        "colab": {
          "base_uri": "https://localhost:8080/"
        }
      },
      "execution_count": 13,
      "outputs": [
        {
          "output_type": "stream",
          "name": "stdout",
          "text": [
            "+-------+---------------+---------------+\n",
            "|link_id|       cookieid|listening_count|\n",
            "+-------+---------------+---------------+\n",
            "|    444|1491698754-3596|              2|\n",
            "|    444|1494285228-5750|              2|\n",
            "|    444|1500997338-2939|              1|\n",
            "|    445|1465152050-1182|              1|\n",
            "|    445|1465565383-6194|              2|\n",
            "|    445|1467423780-3721|              1|\n",
            "|    445|1467592062-7736|              2|\n",
            "|    445|1469553781-9659|              1|\n",
            "|    445|1469637113-4090|              1|\n",
            "|    445|1470757428-2803|              2|\n",
            "|    445|1470941945-3711|              1|\n",
            "|    445|1471645750-9603|              1|\n",
            "|    445|1474206672-9670|              4|\n",
            "|    445|1475869145-1221|              2|\n",
            "|    445|1477310230-1177|              2|\n",
            "|    445|1477343412-6623|              1|\n",
            "|    445|1477878153-9020|              1|\n",
            "|    445|1478306200-2182|              1|\n",
            "|    445|1478967959-8795|              1|\n",
            "|    445|1479578171-4588|              1|\n",
            "+-------+---------------+---------------+\n",
            "only showing top 20 rows\n",
            "\n"
          ]
        }
      ]
    },
    {
      "cell_type": "code",
      "source": [
        "user_song_with_more_listenings.write.option(\"header\",True).csv(\"/content/gdrive/MyDrive/musicrecom/melodice/user_song_with_more_listenings.csv\")\n"
      ],
      "metadata": {
        "id": "PNSWv14K7eyJ"
      },
      "execution_count": 17,
      "outputs": []
    }
  ]
}