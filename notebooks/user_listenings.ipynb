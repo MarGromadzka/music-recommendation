{
  "nbformat": 4,
  "nbformat_minor": 0,
  "metadata": {
    "colab": {
      "provenance": []
    },
    "kernelspec": {
      "name": "python3",
      "display_name": "Python 3"
    },
    "language_info": {
      "name": "python"
    }
  },
  "cells": [
    {
      "cell_type": "markdown",
      "source": [],
      "metadata": {
        "id": "MqYJRO1DSK7u"
      }
    },
    {
      "cell_type": "code",
      "execution_count": 6,
      "metadata": {
        "colab": {
          "base_uri": "https://localhost:8080/"
        },
        "id": "-oYo69nwFyFc",
        "outputId": "f5e882fe-db51-4c16-a072-27bec32d9f42"
      },
      "outputs": [
        {
          "output_type": "stream",
          "name": "stdout",
          "text": [
            "Looking in indexes: https://pypi.org/simple, https://us-python.pkg.dev/colab-wheels/public/simple/\n",
            "Requirement already satisfied: pyspark in /usr/local/lib/python3.9/dist-packages (3.4.0)\n",
            "Requirement already satisfied: py4j==0.10.9.7 in /usr/local/lib/python3.9/dist-packages (from pyspark) (0.10.9.7)\n"
          ]
        }
      ],
      "source": [
        "!pip install pyspark\n",
        "\n",
        "from pyspark.sql import SparkSession\n",
        "#spark.stop()\n",
        "spark = SparkSession \\\n",
        ".builder \\\n",
        ".config(\"spark.executor.instances\", \"1\")\\\n",
        ".config('spark.driver.memory','1g')\\\n",
        ".config('spark.executor.memory', '1g') \\\n",
        ".getOrCreate()"
      ]
    },
    {
      "cell_type": "code",
      "source": [
        "from google.colab import drive\n",
        "drive.mount('/content/gdrive')"
      ],
      "metadata": {
        "colab": {
          "base_uri": "https://localhost:8080/"
        },
        "id": "zSQsaWQtSPBd",
        "outputId": "fe97fabe-7c96-403a-9c75-dc150d00b282"
      },
      "execution_count": 7,
      "outputs": [
        {
          "output_type": "stream",
          "name": "stdout",
          "text": [
            "Drive already mounted at /content/gdrive; to attempt to forcibly remount, call drive.mount(\"/content/gdrive\", force_remount=True).\n"
          ]
        }
      ]
    },
    {
      "cell_type": "code",
      "source": [
        "df = spark.read.csv('/content/gdrive/MyDrive/musicrecom/melodice/user_listenings.csv', inferSchema=True, header=True, nullValue='NA', nanValue='NA',emptyValue='NA').dropna()"
      ],
      "metadata": {
        "id": "7cCy3CmQGTAz"
      },
      "execution_count": 10,
      "outputs": []
    },
    {
      "cell_type": "code",
      "source": [
        "from pyspark.sql.functions import mean\n",
        "\n",
        "df.select(mean(\"sum_listenings\")).show()\n"
      ],
      "metadata": {
        "colab": {
          "base_uri": "https://localhost:8080/"
        },
        "id": "xdqqw-nOGkqR",
        "outputId": "e5fd9d0b-be61-4776-8510-871d9dcb7252"
      },
      "execution_count": 11,
      "outputs": [
        {
          "output_type": "stream",
          "name": "stdout",
          "text": [
            "+-------------------+\n",
            "|avg(sum_listenings)|\n",
            "+-------------------+\n",
            "| 18.772989163614163|\n",
            "+-------------------+\n",
            "\n"
          ]
        }
      ]
    },
    {
      "cell_type": "code",
      "source": [
        "df.filter(df.sum_listenings < 5).count()"
      ],
      "metadata": {
        "colab": {
          "base_uri": "https://localhost:8080/"
        },
        "id": "wBq5FAORhC0J",
        "outputId": "0c3db427-f157-4b82-96e5-ea09078542d2"
      },
      "execution_count": 12,
      "outputs": [
        {
          "output_type": "execute_result",
          "data": {
            "text/plain": [
              "1318633"
            ]
          },
          "metadata": {},
          "execution_count": 12
        }
      ]
    },
    {
      "cell_type": "code",
      "source": [
        "!pip install pyspark_dist_explore"
      ],
      "metadata": {
        "colab": {
          "base_uri": "https://localhost:8080/"
        },
        "id": "cJzuCk3AnxRf",
        "outputId": "deee3b59-7e03-4135-8187-d480f2706185"
      },
      "execution_count": 13,
      "outputs": [
        {
          "output_type": "stream",
          "name": "stdout",
          "text": [
            "Looking in indexes: https://pypi.org/simple, https://us-python.pkg.dev/colab-wheels/public/simple/\n",
            "Collecting pyspark_dist_explore\n",
            "  Downloading pyspark_dist_explore-0.1.8-py3-none-any.whl (7.2 kB)\n",
            "Requirement already satisfied: scipy in /usr/local/lib/python3.9/dist-packages (from pyspark_dist_explore) (1.10.1)\n",
            "Requirement already satisfied: numpy in /usr/local/lib/python3.9/dist-packages (from pyspark_dist_explore) (1.22.4)\n",
            "Requirement already satisfied: pandas in /usr/local/lib/python3.9/dist-packages (from pyspark_dist_explore) (1.5.3)\n",
            "Requirement already satisfied: matplotlib in /usr/local/lib/python3.9/dist-packages (from pyspark_dist_explore) (3.7.1)\n",
            "Requirement already satisfied: importlib-resources>=3.2.0 in /usr/local/lib/python3.9/dist-packages (from matplotlib->pyspark_dist_explore) (5.12.0)\n",
            "Requirement already satisfied: packaging>=20.0 in /usr/local/lib/python3.9/dist-packages (from matplotlib->pyspark_dist_explore) (23.1)\n",
            "Requirement already satisfied: kiwisolver>=1.0.1 in /usr/local/lib/python3.9/dist-packages (from matplotlib->pyspark_dist_explore) (1.4.4)\n",
            "Requirement already satisfied: fonttools>=4.22.0 in /usr/local/lib/python3.9/dist-packages (from matplotlib->pyspark_dist_explore) (4.39.3)\n",
            "Requirement already satisfied: contourpy>=1.0.1 in /usr/local/lib/python3.9/dist-packages (from matplotlib->pyspark_dist_explore) (1.0.7)\n",
            "Requirement already satisfied: pyparsing>=2.3.1 in /usr/local/lib/python3.9/dist-packages (from matplotlib->pyspark_dist_explore) (3.0.9)\n",
            "Requirement already satisfied: cycler>=0.10 in /usr/local/lib/python3.9/dist-packages (from matplotlib->pyspark_dist_explore) (0.11.0)\n",
            "Requirement already satisfied: pillow>=6.2.0 in /usr/local/lib/python3.9/dist-packages (from matplotlib->pyspark_dist_explore) (8.4.0)\n",
            "Requirement already satisfied: python-dateutil>=2.7 in /usr/local/lib/python3.9/dist-packages (from matplotlib->pyspark_dist_explore) (2.8.2)\n",
            "Requirement already satisfied: pytz>=2020.1 in /usr/local/lib/python3.9/dist-packages (from pandas->pyspark_dist_explore) (2022.7.1)\n",
            "Requirement already satisfied: zipp>=3.1.0 in /usr/local/lib/python3.9/dist-packages (from importlib-resources>=3.2.0->matplotlib->pyspark_dist_explore) (3.15.0)\n",
            "Requirement already satisfied: six>=1.5 in /usr/local/lib/python3.9/dist-packages (from python-dateutil>=2.7->matplotlib->pyspark_dist_explore) (1.16.0)\n",
            "Installing collected packages: pyspark_dist_explore\n",
            "Successfully installed pyspark_dist_explore-0.1.8\n"
          ]
        }
      ]
    },
    {
      "cell_type": "code",
      "source": [
        "import pandas as pd"
      ],
      "metadata": {
        "id": "T2Ev_LoInHyM"
      },
      "execution_count": 14,
      "outputs": []
    },
    {
      "cell_type": "code",
      "source": [
        "from pyspark.sql.functions import max\n",
        "df.select(max(\"sum_listenings\")).show()"
      ],
      "metadata": {
        "colab": {
          "base_uri": "https://localhost:8080/"
        },
        "id": "idAe1OSVydlU",
        "outputId": "62375e30-a080-421b-d3c3-c6c439b98ce1"
      },
      "execution_count": 15,
      "outputs": [
        {
          "output_type": "stream",
          "name": "stdout",
          "text": [
            "+-------------------+\n",
            "|max(sum_listenings)|\n",
            "+-------------------+\n",
            "|              35555|\n",
            "+-------------------+\n",
            "\n"
          ]
        }
      ]
    },
    {
      "cell_type": "code",
      "source": [
        "pandas_df = df.toPandas()\n"
      ],
      "metadata": {
        "id": "3vkqUpyxnrkn"
      },
      "execution_count": 16,
      "outputs": []
    },
    {
      "cell_type": "code",
      "source": [
        "pandas_df.hist(column = \"sum_listenings\")"
      ],
      "metadata": {
        "colab": {
          "base_uri": "https://localhost:8080/",
          "height": 470
        },
        "id": "pSpY50VtstRv",
        "outputId": "0cba6130-7967-4af8-93c4-3e2c375d6629"
      },
      "execution_count": 27,
      "outputs": [
        {
          "output_type": "execute_result",
          "data": {
            "text/plain": [
              "array([[<Axes: title={'center': 'sum_listenings'}>]], dtype=object)"
            ]
          },
          "metadata": {},
          "execution_count": 27
        },
        {
          "output_type": "display_data",
          "data": {
            "text/plain": [
              "<Figure size 640x480 with 1 Axes>"
            ],
            "image/png": "[encoded data removed]"
          },
          "metadata": {}
        }
      ]
    },
    {
      "cell_type": "code",
      "source": [
        "pandas_df.boxplot(column = \"sum_listenings\")"
      ],
      "metadata": {
        "colab": {
          "base_uri": "https://localhost:8080/",
          "height": 448
        },
        "id": "UOXUa0ODs9Ok",
        "outputId": "d6cdfba2-828d-4707-b2f2-04adf2a75997"
      },
      "execution_count": 18,
      "outputs": [
        {
          "output_type": "execute_result",
          "data": {
            "text/plain": [
              "<Axes: >"
            ]
          },
          "metadata": {},
          "execution_count": 18
        },
        {
          "output_type": "display_data",
          "data": {
            "text/plain": [
              "<Figure size 640x480 with 1 Axes>"
            ],
            "image/png": "[encoded data removed]"
          },
          "metadata": {}
        }
      ]
    },
    {
      "cell_type": "code",
      "source": [
        "quantiles = df.approxQuantile(\"sum_listenings\", [0.25, 0.5, 0.75], 0)\n",
        "quantiles"
      ],
      "metadata": {
        "colab": {
          "base_uri": "https://localhost:8080/"
        },
        "id": "9VSHWQ6FJHpE",
        "outputId": "157fd81b-549c-4cfc-af21-744296296de4"
      },
      "execution_count": 19,
      "outputs": [
        {
          "output_type": "execute_result",
          "data": {
            "text/plain": [
              "[1.0, 1.0, 1.0]"
            ]
          },
          "metadata": {},
          "execution_count": 19
        }
      ]
    },
    {
      "cell_type": "code",
      "source": [
        "df.count()"
      ],
      "metadata": {
        "colab": {
          "base_uri": "https://localhost:8080/"
        },
        "id": "7LlFeOVGLqvI",
        "outputId": "51b46354-2228-4b99-d7bb-b31b75df5c78"
      },
      "execution_count": 20,
      "outputs": [
        {
          "output_type": "execute_result",
          "data": {
            "text/plain": [
              "1624896"
            ]
          },
          "metadata": {},
          "execution_count": 20
        }
      ]
    },
    {
      "cell_type": "code",
      "source": [
        "df.filter(df.sum_listenings == 1).count()"
      ],
      "metadata": {
        "colab": {
          "base_uri": "https://localhost:8080/"
        },
        "id": "kLNp2qbaL5f6",
        "outputId": "08c71650-893b-40cc-f08e-b1a64a34092e"
      },
      "execution_count": 21,
      "outputs": [
        {
          "output_type": "execute_result",
          "data": {
            "text/plain": [
              "1267996"
            ]
          },
          "metadata": {},
          "execution_count": 21
        }
      ]
    },
    {
      "cell_type": "code",
      "source": [
        "from pyspark.sql.functions import col\n",
        "\n",
        "df.orderBy(col(\"sum_listenings\").desc()).show()"
      ],
      "metadata": {
        "colab": {
          "base_uri": "https://localhost:8080/"
        },
        "id": "d8y5OousMFOz",
        "outputId": "4e2da9dc-02db-42cc-8adf-c24a06211781"
      },
      "execution_count": 22,
      "outputs": [
        {
          "output_type": "stream",
          "name": "stdout",
          "text": [
            "+---------------+--------------+\n",
            "|       cookieid|sum_listenings|\n",
            "+---------------+--------------+\n",
            "|1511705238-9725|         35555|\n",
            "|1567184344-9791|         33727|\n",
            "|1560097191-8551|         33214|\n",
            "|1588865965-3504|         33043|\n",
            "|1505470833-2428|         30545|\n",
            "|1488556185-6393|         29815|\n",
            "|1547737587-5050|         28168|\n",
            "|1521552628-6413|         20263|\n",
            "|1570734372-6298|         18855|\n",
            "|1617690747-6497|         18735|\n",
            "|1545704083-2368|         17248|\n",
            "|1526609489-9692|         16217|\n",
            "|1530371954-4195|         15906|\n",
            "|1497174717-1985|         15191|\n",
            "|1519567304-4818|         15068|\n",
            "|1516452479-4718|         14227|\n",
            "|1534041435-6766|         14060|\n",
            "|1587416365-2582|         13890|\n",
            "|1576170598-5730|         13527|\n",
            "|1598097616-9798|         13268|\n",
            "+---------------+--------------+\n",
            "only showing top 20 rows\n",
            "\n"
          ]
        }
      ]
    },
    {
      "cell_type": "code",
      "source": [
        "user_with_more_listenings = df.filter(df.sum_listenings != 1)\n",
        "user_with_more_listenings.write.option(\"header\",True).csv(\"/content/gdrive/MyDrive/musicrecom/melodice/user_with_more_listenings.csv\")"
      ],
      "metadata": {
        "id": "z_lH_QO6MfVr"
      },
      "execution_count": 23,
      "outputs": []
    }
  ]
}